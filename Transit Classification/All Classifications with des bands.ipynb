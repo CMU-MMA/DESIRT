{
 "cells": [
  {
   "cell_type": "code",
   "execution_count": 1,
   "metadata": {},
   "outputs": [
    {
     "name": "stderr",
     "output_type": "stream",
     "text": [
      "WARNING: AstropyDeprecationWarning: The update_default_config function is deprecated and may be removed in a future version. [sncosmo]\n"
     ]
    }
   ],
   "source": [
    "import glob, os\n",
    "import fnmatch\n",
    "import sys\n",
    "import astropy\n",
    "import json\n",
    "import parsnip\n",
    "import pandas as pd\n",
    "import sncosmo\n",
    "import iminuit\n",
    "import csv\n",
    "import lcdata\n",
    "from astropy.table import QTable, Table, Column\n",
    "import numpy as np\n",
    "from matplotlib import pyplot as plt"
   ]
  },
  {
   "cell_type": "code",
   "execution_count": 2,
   "metadata": {},
   "outputs": [],
   "source": [
    "dir = '../../../cfs/cdirs/desi/science/td/DECam/imaging/LCData_Legacy/'"
   ]
  },
  {
   "cell_type": "code",
   "execution_count": 7,
   "metadata": {},
   "outputs": [
    {
     "ename": "UFuncTypeError",
     "evalue": "ufunc 'add' did not contain a loop with signature matching types (dtype('<U32'), dtype('<U32')) -> dtype('<U32')",
     "output_type": "error",
     "traceback": [
      "\u001b[0;31m---------------------------------------------------------------------------\u001b[0m",
      "\u001b[0;31mUFuncTypeError\u001b[0m                            Traceback (most recent call last)",
      "\u001b[0;32m/tmp/ipykernel_36564/335416172.py\u001b[0m in \u001b[0;36m<module>\u001b[0;34m\u001b[0m\n\u001b[1;32m     61\u001b[0m         \u001b[0msource\u001b[0m \u001b[0;34m=\u001b[0m \u001b[0mparsnip\u001b[0m\u001b[0;34m.\u001b[0m\u001b[0mParsnipSncosmoSource\u001b[0m\u001b[0;34m(\u001b[0m\u001b[0;34m'plasticc'\u001b[0m\u001b[0;34m)\u001b[0m\u001b[0;34m\u001b[0m\u001b[0;34m\u001b[0m\u001b[0m\n\u001b[1;32m     62\u001b[0m         \u001b[0mmodel\u001b[0m \u001b[0;34m=\u001b[0m \u001b[0msncosmo\u001b[0m\u001b[0;34m.\u001b[0m\u001b[0mModel\u001b[0m\u001b[0;34m(\u001b[0m\u001b[0msource\u001b[0m\u001b[0;34m=\u001b[0m\u001b[0msource\u001b[0m\u001b[0;34m)\u001b[0m\u001b[0;34m\u001b[0m\u001b[0;34m\u001b[0m\u001b[0m\n\u001b[0;32m---> 63\u001b[0;31m         \u001b[0mresult\u001b[0m\u001b[0;34m,\u001b[0m \u001b[0mfitted_model\u001b[0m \u001b[0;34m=\u001b[0m \u001b[0msncosmo\u001b[0m\u001b[0;34m.\u001b[0m\u001b[0mfit_lc\u001b[0m\u001b[0;34m(\u001b[0m\u001b[0mlight_curve_curr\u001b[0m\u001b[0;34m,\u001b[0m \u001b[0mmodel\u001b[0m\u001b[0;34m,\u001b[0m\u001b[0;34m[\u001b[0m\u001b[0;34m't0'\u001b[0m\u001b[0;34m,\u001b[0m \u001b[0;34m'amplitude'\u001b[0m\u001b[0;34m,\u001b[0m \u001b[0;34m's1'\u001b[0m\u001b[0;34m,\u001b[0m \u001b[0;34m's2'\u001b[0m\u001b[0;34m,\u001b[0m \u001b[0;34m's3'\u001b[0m\u001b[0;34m,\u001b[0m \u001b[0;34m'color'\u001b[0m\u001b[0;34m]\u001b[0m\u001b[0;34m,\u001b[0m\u001b[0mbounds\u001b[0m\u001b[0;34m=\u001b[0m\u001b[0;34m{\u001b[0m\u001b[0;34m'z'\u001b[0m\u001b[0;34m:\u001b[0m \u001b[0;34m(\u001b[0m\u001b[0mz_TNS\u001b[0m\u001b[0;34m,\u001b[0m\u001b[0mz_TNS\u001b[0m\u001b[0;34m)\u001b[0m\u001b[0;34m}\u001b[0m\u001b[0;34m)\u001b[0m\u001b[0;34m\u001b[0m\u001b[0;34m\u001b[0m\u001b[0m\n\u001b[0m\u001b[1;32m     64\u001b[0m \u001b[0;34m\u001b[0m\u001b[0m\n\u001b[1;32m     65\u001b[0m         \u001b[0msncosmo\u001b[0m\u001b[0;34m.\u001b[0m\u001b[0mplot_lc\u001b[0m\u001b[0;34m(\u001b[0m\u001b[0mlight_curve_curr\u001b[0m\u001b[0;34m,\u001b[0m \u001b[0mmodel\u001b[0m\u001b[0;34m=\u001b[0m\u001b[0mfitted_model\u001b[0m\u001b[0;34m,\u001b[0m \u001b[0merrors\u001b[0m\u001b[0;34m=\u001b[0m\u001b[0mresult\u001b[0m\u001b[0;34m.\u001b[0m\u001b[0merrors\u001b[0m\u001b[0;34m)\u001b[0m\u001b[0;34m\u001b[0m\u001b[0;34m\u001b[0m\u001b[0m\n",
      "\u001b[0;32m~/.local/cori/3.9-anaconda-2021.11/lib/python3.9/site-packages/sncosmo/fitting.py\u001b[0m in \u001b[0;36mfit_lc\u001b[0;34m(data, model, vparam_names, bounds, spectra, method, guess_amplitude, guess_t0, guess_z, minsnr, modelcov, verbose, maxcall, phase_range, wave_range, warn)\u001b[0m\n\u001b[1;32m    655\u001b[0m     \u001b[0;32mif\u001b[0m \u001b[0mdata\u001b[0m \u001b[0;32mis\u001b[0m \u001b[0;32mnot\u001b[0m \u001b[0;32mNone\u001b[0m\u001b[0;34m:\u001b[0m\u001b[0;34m\u001b[0m\u001b[0;34m\u001b[0m\u001b[0m\n\u001b[1;32m    656\u001b[0m         \u001b[0;31m# Cut bands that are not allowed by the wavelength range of the model.\u001b[0m\u001b[0;34m\u001b[0m\u001b[0;34m\u001b[0m\u001b[0m\n\u001b[0;32m--> 657\u001b[0;31m         fitdata, support_mask = cut_bands(data, model,\n\u001b[0m\u001b[1;32m    658\u001b[0m                                           \u001b[0mz_bounds\u001b[0m\u001b[0;34m=\u001b[0m\u001b[0mbounds\u001b[0m\u001b[0;34m.\u001b[0m\u001b[0mget\u001b[0m\u001b[0;34m(\u001b[0m\u001b[0;34m'z'\u001b[0m\u001b[0;34m,\u001b[0m \u001b[0;32mNone\u001b[0m\u001b[0;34m)\u001b[0m\u001b[0;34m,\u001b[0m\u001b[0;34m\u001b[0m\u001b[0;34m\u001b[0m\u001b[0m\n\u001b[1;32m    659\u001b[0m                                           warn=warn)\n",
      "\u001b[0;32m~/.local/cori/3.9-anaconda-2021.11/lib/python3.9/site-packages/sncosmo/fitting.py\u001b[0m in \u001b[0;36mcut_bands\u001b[0;34m(data, model, z_bounds, warn)\u001b[0m\n\u001b[1;32m    191\u001b[0m \u001b[0;34m\u001b[0m\u001b[0m\n\u001b[1;32m    192\u001b[0m \u001b[0;32mdef\u001b[0m \u001b[0mcut_bands\u001b[0m\u001b[0;34m(\u001b[0m\u001b[0mdata\u001b[0m\u001b[0;34m,\u001b[0m \u001b[0mmodel\u001b[0m\u001b[0;34m,\u001b[0m \u001b[0mz_bounds\u001b[0m\u001b[0;34m=\u001b[0m\u001b[0;32mNone\u001b[0m\u001b[0;34m,\u001b[0m \u001b[0mwarn\u001b[0m\u001b[0;34m=\u001b[0m\u001b[0;32mTrue\u001b[0m\u001b[0;34m)\u001b[0m\u001b[0;34m:\u001b[0m\u001b[0;34m\u001b[0m\u001b[0;34m\u001b[0m\u001b[0m\n\u001b[0;32m--> 193\u001b[0;31m     \u001b[0mmask\u001b[0m \u001b[0;34m=\u001b[0m \u001b[0m_mask_bands\u001b[0m\u001b[0;34m(\u001b[0m\u001b[0mdata\u001b[0m\u001b[0;34m,\u001b[0m \u001b[0mmodel\u001b[0m\u001b[0;34m,\u001b[0m \u001b[0mz_bounds\u001b[0m\u001b[0;34m=\u001b[0m\u001b[0mz_bounds\u001b[0m\u001b[0;34m)\u001b[0m\u001b[0;34m\u001b[0m\u001b[0;34m\u001b[0m\u001b[0m\n\u001b[0m\u001b[1;32m    194\u001b[0m \u001b[0;34m\u001b[0m\u001b[0m\n\u001b[1;32m    195\u001b[0m     \u001b[0;32mif\u001b[0m \u001b[0;32mnot\u001b[0m \u001b[0mnp\u001b[0m\u001b[0;34m.\u001b[0m\u001b[0mall\u001b[0m\u001b[0;34m(\u001b[0m\u001b[0mmask\u001b[0m\u001b[0;34m)\u001b[0m\u001b[0;34m:\u001b[0m\u001b[0;34m\u001b[0m\u001b[0;34m\u001b[0m\u001b[0m\n",
      "\u001b[0;32m~/.local/cori/3.9-anaconda-2021.11/lib/python3.9/site-packages/sncosmo/fitting.py\u001b[0m in \u001b[0;36m_mask_bands\u001b[0;34m(data, model, z_bounds)\u001b[0m\n\u001b[1;32m    178\u001b[0m         \u001b[0;32mreturn\u001b[0m \u001b[0mmodel\u001b[0m\u001b[0;34m.\u001b[0m\u001b[0mbandoverlap\u001b[0m\u001b[0;34m(\u001b[0m\u001b[0mdata\u001b[0m\u001b[0;34m.\u001b[0m\u001b[0mband\u001b[0m\u001b[0;34m)\u001b[0m\u001b[0;34m\u001b[0m\u001b[0;34m\u001b[0m\u001b[0m\n\u001b[1;32m    179\u001b[0m     \u001b[0;32melse\u001b[0m\u001b[0;34m:\u001b[0m\u001b[0;34m\u001b[0m\u001b[0;34m\u001b[0m\u001b[0m\n\u001b[0;32m--> 180\u001b[0;31m         \u001b[0;32mreturn\u001b[0m \u001b[0mnp\u001b[0m\u001b[0;34m.\u001b[0m\u001b[0mall\u001b[0m\u001b[0;34m(\u001b[0m\u001b[0mmodel\u001b[0m\u001b[0;34m.\u001b[0m\u001b[0mbandoverlap\u001b[0m\u001b[0;34m(\u001b[0m\u001b[0mdata\u001b[0m\u001b[0;34m.\u001b[0m\u001b[0mband\u001b[0m\u001b[0;34m,\u001b[0m \u001b[0mz\u001b[0m\u001b[0;34m=\u001b[0m\u001b[0mz_bounds\u001b[0m\u001b[0;34m)\u001b[0m\u001b[0;34m,\u001b[0m \u001b[0maxis\u001b[0m\u001b[0;34m=\u001b[0m\u001b[0;36m1\u001b[0m\u001b[0;34m)\u001b[0m\u001b[0;34m\u001b[0m\u001b[0;34m\u001b[0m\u001b[0m\n\u001b[0m\u001b[1;32m    181\u001b[0m \u001b[0;34m\u001b[0m\u001b[0m\n\u001b[1;32m    182\u001b[0m \u001b[0;34m\u001b[0m\u001b[0m\n",
      "\u001b[0;32m~/.local/cori/3.9-anaconda-2021.11/lib/python3.9/site-packages/sncosmo/models.py\u001b[0m in \u001b[0;36mbandoverlap\u001b[0;34m(self, band, z)\u001b[0m\n\u001b[1;32m   1637\u001b[0m         \u001b[0mz\u001b[0m \u001b[0;34m=\u001b[0m \u001b[0mz\u001b[0m\u001b[0;34m.\u001b[0m\u001b[0mravel\u001b[0m\u001b[0;34m(\u001b[0m\u001b[0;34m)\u001b[0m\u001b[0;34m\u001b[0m\u001b[0;34m\u001b[0m\u001b[0m\n\u001b[1;32m   1638\u001b[0m         \u001b[0moverlap\u001b[0m \u001b[0;34m=\u001b[0m \u001b[0mnp\u001b[0m\u001b[0;34m.\u001b[0m\u001b[0mempty\u001b[0m\u001b[0;34m(\u001b[0m\u001b[0;34m(\u001b[0m\u001b[0mlen\u001b[0m\u001b[0;34m(\u001b[0m\u001b[0mband\u001b[0m\u001b[0;34m)\u001b[0m\u001b[0;34m,\u001b[0m \u001b[0mlen\u001b[0m\u001b[0;34m(\u001b[0m\u001b[0mz\u001b[0m\u001b[0;34m)\u001b[0m\u001b[0;34m)\u001b[0m\u001b[0;34m,\u001b[0m \u001b[0mdtype\u001b[0m\u001b[0;34m=\u001b[0m\u001b[0mbool\u001b[0m\u001b[0;34m)\u001b[0m\u001b[0;34m\u001b[0m\u001b[0;34m\u001b[0m\u001b[0m\n\u001b[0;32m-> 1639\u001b[0;31m         \u001b[0mshift\u001b[0m \u001b[0;34m=\u001b[0m \u001b[0;34m(\u001b[0m\u001b[0;36m1.\u001b[0m \u001b[0;34m+\u001b[0m \u001b[0mz\u001b[0m\u001b[0;34m)\u001b[0m\u001b[0;34m/\u001b[0m\u001b[0;34m(\u001b[0m\u001b[0;36m1\u001b[0m\u001b[0;34m+\u001b[0m\u001b[0mself\u001b[0m\u001b[0;34m.\u001b[0m\u001b[0m_parameters\u001b[0m\u001b[0;34m[\u001b[0m\u001b[0;36m0\u001b[0m\u001b[0;34m]\u001b[0m\u001b[0;34m)\u001b[0m\u001b[0;34m\u001b[0m\u001b[0;34m\u001b[0m\u001b[0m\n\u001b[0m\u001b[1;32m   1640\u001b[0m         \u001b[0;32mfor\u001b[0m \u001b[0mi\u001b[0m\u001b[0;34m,\u001b[0m \u001b[0mb\u001b[0m \u001b[0;32min\u001b[0m \u001b[0menumerate\u001b[0m\u001b[0;34m(\u001b[0m\u001b[0mband\u001b[0m\u001b[0;34m)\u001b[0m\u001b[0;34m:\u001b[0m\u001b[0;34m\u001b[0m\u001b[0;34m\u001b[0m\u001b[0m\n\u001b[1;32m   1641\u001b[0m             \u001b[0mb\u001b[0m \u001b[0;34m=\u001b[0m \u001b[0mget_bandpass\u001b[0m\u001b[0;34m(\u001b[0m\u001b[0mb\u001b[0m\u001b[0;34m)\u001b[0m\u001b[0;34m\u001b[0m\u001b[0;34m\u001b[0m\u001b[0m\n",
      "\u001b[0;31mUFuncTypeError\u001b[0m: ufunc 'add' did not contain a loop with signature matching types (dtype('<U32'), dtype('<U32')) -> dtype('<U32')"
     ]
    }
   ],
   "source": [
    "#read from .json file\n",
    "for folder in os.listdir(dir):\n",
    "    if folder.startswith('T2021'):\n",
    "        id = folder\n",
    "        for file in os.listdir(dir+folder+'/'):\n",
    "            if file.endswith('.json'):\n",
    "                f = open(dir+folder + '/' + file)\n",
    "                data = json.load(f)\n",
    "                id = data['ObjectID']\n",
    "                ra = data['RA-OBJECT']\n",
    "                dec = data['DEC-OBJECT']\n",
    "                type = 'Unknown'\n",
    "\n",
    "        # read redshift of the host start from DESIRT_hosts_redshufts_fujilupe_Y1\n",
    "        csv_host_rs = open('DESIRT_hosts_redshifts_fujilupe_Y1.csv')\n",
    "        reader_host = csv.DictReader(csv_host_rs)\n",
    "        for row in reader_host:\n",
    "            if row['# TransientID'] == id:\n",
    "                rs = row[' REDSHIFT']\n",
    "                \n",
    "        #construct a metadata table\n",
    "        metaTable = Table(names=('object_id', 'ra', 'dec', 'type', 'redshift'), dtype=('S2', 'i', 'i', 'S2', 'f'))\n",
    "        metaTable.add_row((id, ra, dec, type, rs))\n",
    "                \n",
    "        #read from .csv file\n",
    "        lightcurveTable = Table(names=('time(mjd)', 'flux', 'fluxerr', 'band', 'zp', 'zpsys'), dtype=('f', 'f', 'f', 'S', 'f', 'S'))\n",
    "\n",
    "        for file in os.listdir(dir+id+\"/\"):\n",
    "            if file.endswith(\".csv\"):\n",
    "                csvFile = open(dir+id+'/'+file)\n",
    "                reader = csv.DictReader(csvFile)\n",
    "                for row in reader:\n",
    "                    if (float(row['mag']) < float(row['lm5'])) & (float(row['mag']) > 12):\n",
    "                        time = row['mjd']\n",
    "                        mag = float(row['mag'])\n",
    "                        magerr = float(row['magerr'])\n",
    "                        flux = 10**((-mag)/2.5)\n",
    "                        fluxerr = fluxerr = flux * np.log(10) / 2.5 * magerr\n",
    "                        band = 'des' + row['filter']\n",
    "                        zp = 22.5\n",
    "                        zpsys = 'ab'\n",
    "                        lightcurveTable.add_row((time, flux, fluxerr, band, zp, zpsys))\n",
    "                                \n",
    "        #combine the two tables into lcdata\n",
    "        light_curve_curr = Table({\n",
    "                'time': list(lightcurveTable['time(mjd)']),\n",
    "                'flux': list(lightcurveTable['flux']),\n",
    "                'fluxerr': list(lightcurveTable['fluxerr']),\n",
    "                'band': list(lightcurveTable['band']),\n",
    "                'zp': list(lightcurveTable['zp']),\n",
    "                'zpsys': list(lightcurveTable['zpsys'])})\n",
    "\n",
    "        light_curve_curr.meta = {\n",
    "            'object_id': id,\n",
    "            'ra': ra,\n",
    "            'dec': dec,\n",
    "            'type': type,\n",
    "            'redshift': rs}\n",
    "                \n",
    "        z_TNS = rs\n",
    "        source = parsnip.ParsnipSncosmoSource('plasticc')\n",
    "        model = sncosmo.Model(source=source)\n",
    "        result, fitted_model = sncosmo.fit_lc(light_curve_curr, model,['t0', 'amplitude', 's1', 's2', 's3', 'color'],bounds={'z': (z_TNS,z_TNS)})\n",
    "        \n",
    "        sncosmo.plot_lc(light_curve_curr, model=fitted_model, errors=result.errors)\n",
    "        plt.savefig('All Light Curve Plots with des/lightcurve-'+id+'.png',dpi=200)"
   ]
  },
  {
   "cell_type": "code",
   "execution_count": null,
   "metadata": {},
   "outputs": [],
   "source": []
  }
 ],
 "metadata": {
  "kernelspec": {
   "display_name": "NERSC Python",
   "language": "python",
   "name": "python3"
  },
  "language_info": {
   "codemirror_mode": {
    "name": "ipython",
    "version": 3
   },
   "file_extension": ".py",
   "mimetype": "text/x-python",
   "name": "python",
   "nbconvert_exporter": "python",
   "pygments_lexer": "ipython3",
   "version": "3.9.7"
  }
 },
 "nbformat": 4,
 "nbformat_minor": 4
}
