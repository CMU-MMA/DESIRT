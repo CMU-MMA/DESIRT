{
 "cells": [
  {
   "cell_type": "code",
   "execution_count": 1,
   "id": "424d132d",
   "metadata": {},
   "outputs": [],
   "source": [
    "from astropy.io import fits\n",
    "from astropy.table import Table, Column, join, hstack, vstack, unique, setdiff\n",
    "from astropy import units as u\n",
    "from astropy.coordinates import SkyCoord, match_coordinates_sky, Angle\n",
    "from astropy.time import Time\n",
    "#import desitarget.io as io\n",
    "import matplotlib.pyplot as plt\n",
    "import numpy as np\n",
    "import pandas as pd\n",
    "import glob\n",
    "import sys\n",
    "import healpy as hp\n",
    "import glob\n",
    "import json\n",
    "import lcdata\n",
    "import get_redshift\n",
    "import time\n",
    "import h5py\n",
    "#import parsnip\n",
    "\n",
    "\n",
    "import sqlite3\n",
    "import os\n",
    "import logging"
   ]
  },
  {
   "cell_type": "code",
   "execution_count": 3,
   "id": "c0265053",
   "metadata": {},
   "outputs": [],
   "source": [
    "# path = '/global/cfs/cdirs/desi/science/td/DECam/imaging/LCData_Legacy'\n",
    "path = 'LCData_Legacy'"
   ]
  },
  {
   "cell_type": "code",
   "execution_count": 4,
   "id": "f28726bb",
   "metadata": {},
   "outputs": [],
   "source": [
    "class lc_data_container():\n",
    "    \n",
    "    def __init__(self, servey, container=[]):\n",
    "        self.servey = servey\n",
    "        self.container = container\n",
    "        \n",
    "        #dataset = lcdata.from_light_curves([light_curve])\n",
    "        \n",
    "    add_lc = lambda self, x: self.container.append(x)\n",
    "    \n",
    "    \n",
    "class transients():\n",
    "    filter_type = 'undeclared'\n",
    "    light_curve = None\n",
    "    meta = None\n",
    "    \n",
    "    def __init__(self, data):\n",
    "        self.data = data\n",
    "        \n",
    "    def assign_meta(self, meta_data):\n",
    "        self.meta = meta_data\n",
    "        self.ra_pseudo_host = meta_data['RA-PSEUDO-HOST']\n",
    "        self.dec_pseudo_host = meta_data['DEC-PSEUDO-HOST']\n",
    "    \n",
    "    def use_lsst_filters(self):\n",
    "        if self.filter_type == 'undeclared':\n",
    "            self.data['band'] = self.data['band'].replace(['r','g','z'],['lsstr','lsstg', 'lsstz'])\n",
    "        else: self.data['band'] = self.data['band'].replace(['desr','desg', 'desz'],['lsstr','lsstg', 'lsstz'])\n",
    "        self.filter_type = 'lsst'    \n",
    "    \n",
    "    def use_des_filters(self):\n",
    "        if self.filter_type == 'undeclared':\n",
    "            self.data['band'] = self.data['band'].replace(['r','g','z'],['desr','desg', 'desz'])\n",
    "        else: self.data['band'] = self.data['band'].replace(['lsstr','lsstg', 'lsstz'],['desr','desg', 'desz'])\n",
    "        self.filter_type = 'des'\n",
    "        \n",
    "        # flux = 10**((22.5-mag)/2.5)\n",
    "        # fluxerr = flux * np.log(10) / 2.5 * magerr\n",
    "    def create_lc_data(self):\n",
    "        flux = list(10**((22.5-self.data['mag'])/2.5))\n",
    "        magerr = list(self.data['magerr'])\n",
    "        fluxerr = np.array(flux) * np.log(10) / 2.5 * np.array(magerr)\n",
    "        \n",
    "        self.light_curve = Table({\n",
    "        'time': list(self.data['time']),\n",
    "        'flux': flux,\n",
    "        'fluxerr': list(fluxerr),\n",
    "        'band': list(self.data['band']),})\n",
    "        \n",
    "        self.light_curve.meta = {\n",
    "        'object_id': self.meta['ObjectID'],\n",
    "        'ra': self.meta['RA-OBJECT'],\n",
    "        'dec': self.meta['DEC-OBJECT'],\n",
    "        'type': 'Unknown',\n",
    "        'redshift': self.meta['redshift'],\n",
    "        'hostgal_photoz': self.meta['hostgal_photoz'],\n",
    "        'hostgal_photoz_err': self.meta['hostgal_photoz_err']}\n",
    "        \n",
    "        "
   ]
  },
  {
   "cell_type": "code",
   "execution_count": 5,
   "id": "00d03f7c",
   "metadata": {},
   "outputs": [],
   "source": [
    "transient_dirs = []\n",
    "legacy = lc_data_container('LCData_Legacy')\n",
    "for dirname, dirnames, filenames in os.walk(path):\n",
    "    for subdirname in dirnames:\n",
    "        transient_dirs.append(os.path.join(dirname, subdirname))\n",
    "\n",
    "for dir in transient_dirs:\n",
    "    \n",
    "    for file in glob.glob(dir+'/lc*.csv'):\n",
    "        data = pd.read_csv(file)\n",
    "        data.rename(columns = {'filter':'band'}, inplace = True)\n",
    "        data.rename(columns = {'mjd':'time'}, inplace = True)\n",
    "        alert_mask=data['alert']\n",
    "        masked_data=data[alert_mask]\n",
    "        masked_data.drop(columns='alert')\n",
    "        transient = transients(masked_data)\n",
    "    for file in glob.glob(dir+'/object-summary.json'):\n",
    "        with open(file) as f:\n",
    "            meta_data = json.load(f)\n",
    "            \n",
    "            transient.assign_meta(dict(meta_data))\n",
    "            \n",
    "    legacy.add_lc(transient)\n",
    "\n"
   ]
  },
  {
   "cell_type": "code",
   "execution_count": 6,
   "id": "65d6d373",
   "metadata": {},
   "outputs": [
    {
     "name": "stdout",
     "output_type": "stream",
     "text": [
      "dict_keys(['ObjectID', 'RA-OBJECT', 'DEC-OBJECT', 'NumberAlerts', 'MaxSCORE', 'RA-PSEUDO-HOST', 'DEC-PSEUDO-HOST', 'SEP-PSEUDO-HOST', 'RA-NEIGHBOR-STAR', 'DEC-NEIGHBOR-STAR', 'SEP-NEIGHBOR-STAR', 'Discovery-Round', 'Discovery-Time', 'Discovery-Filter', 'Discovery-Magnitude', 'Discovery-SNR', 'Latest-Round', 'Latest-Time', 'Latest-Filter', 'Latest-Magnitude', 'Latest-SNR'])\n"
     ]
    },
    {
     "ename": "OSError",
     "evalue": "File-like object does not have a 'write' method, required for mode 'ostream'.",
     "output_type": "error",
     "traceback": [
      "\u001b[0;31m---------------------------------------------------------------------------\u001b[0m",
      "\u001b[0;31mOSError\u001b[0m                                   Traceback (most recent call last)",
      "\u001b[0;32m/var/folders/nr/rbr3ndbn343d7__44zxt3v780000gn/T/ipykernel_96816/2259636385.py\u001b[0m in \u001b[0;36m<module>\u001b[0;34m\u001b[0m\n\u001b[1;32m      4\u001b[0m \u001b[0;32mfor\u001b[0m \u001b[0mi\u001b[0m\u001b[0;34m,\u001b[0m \u001b[0mj\u001b[0m \u001b[0;32min\u001b[0m \u001b[0menumerate\u001b[0m\u001b[0;34m(\u001b[0m\u001b[0mlegacy\u001b[0m\u001b[0;34m.\u001b[0m\u001b[0mcontainer\u001b[0m\u001b[0;34m[\u001b[0m\u001b[0;34m:\u001b[0m\u001b[0;36m10\u001b[0m\u001b[0;34m]\u001b[0m\u001b[0;34m)\u001b[0m\u001b[0;34m:\u001b[0m\u001b[0;34m\u001b[0m\u001b[0;34m\u001b[0m\u001b[0m\n\u001b[1;32m      5\u001b[0m     \u001b[0mstart\u001b[0m \u001b[0;34m=\u001b[0m \u001b[0mtime\u001b[0m\u001b[0;34m.\u001b[0m\u001b[0mtime\u001b[0m\u001b[0;34m(\u001b[0m\u001b[0;34m)\u001b[0m\u001b[0;34m\u001b[0m\u001b[0;34m\u001b[0m\u001b[0m\n\u001b[0;32m----> 6\u001b[0;31m     \u001b[0ma\u001b[0m \u001b[0;34m=\u001b[0m \u001b[0mget_redshift\u001b[0m\u001b[0;34m.\u001b[0m\u001b[0mdo_all\u001b[0m\u001b[0;34m(\u001b[0m\u001b[0mj\u001b[0m\u001b[0;34m.\u001b[0m\u001b[0mra_pseudo_host\u001b[0m\u001b[0;34m,\u001b[0m \u001b[0mj\u001b[0m\u001b[0;34m.\u001b[0m\u001b[0mdec_pseudo_host\u001b[0m\u001b[0;34m)\u001b[0m\u001b[0;34m\u001b[0m\u001b[0;34m\u001b[0m\u001b[0m\n\u001b[0m\u001b[1;32m      7\u001b[0m     \u001b[0mend\u001b[0m \u001b[0;34m=\u001b[0m \u001b[0mtime\u001b[0m\u001b[0;34m.\u001b[0m\u001b[0mtime\u001b[0m\u001b[0;34m(\u001b[0m\u001b[0;34m)\u001b[0m\u001b[0;34m\u001b[0m\u001b[0;34m\u001b[0m\u001b[0m\n\u001b[1;32m      8\u001b[0m     \u001b[0mprint\u001b[0m\u001b[0;34m(\u001b[0m\u001b[0;34m'runtime:'\u001b[0m\u001b[0;34m,\u001b[0m \u001b[0mend\u001b[0m \u001b[0;34m-\u001b[0m \u001b[0mstart\u001b[0m\u001b[0;34m)\u001b[0m\u001b[0;34m\u001b[0m\u001b[0;34m\u001b[0m\u001b[0m\n",
      "\u001b[0;32m~/Pi_Squared/get_redshift.py\u001b[0m in \u001b[0;36mdo_all\u001b[0;34m(ra, dec)\u001b[0m\n\u001b[1;32m    144\u001b[0m     \u001b[0mfiles\u001b[0m \u001b[0;34m=\u001b[0m \u001b[0mcreate_sweepfile_dict\u001b[0m\u001b[0;34m(\u001b[0m\u001b[0;34m)\u001b[0m\u001b[0;34m\u001b[0m\u001b[0;34m\u001b[0m\u001b[0m\n\u001b[1;32m    145\u001b[0m     \u001b[0mpath\u001b[0m \u001b[0;34m=\u001b[0m \u001b[0mfind_host_galaxy_file\u001b[0m\u001b[0;34m(\u001b[0m\u001b[0mfiles\u001b[0m\u001b[0;34m,\u001b[0m \u001b[0mra\u001b[0m\u001b[0;34m,\u001b[0m \u001b[0mdec\u001b[0m\u001b[0;34m)\u001b[0m\u001b[0;34m\u001b[0m\u001b[0;34m\u001b[0m\u001b[0m\n\u001b[0;32m--> 146\u001b[0;31m     \u001b[0mobj_lists\u001b[0m \u001b[0;34m=\u001b[0m \u001b[0mfind_ID_RA_DEC_lists_in_brick\u001b[0m\u001b[0;34m(\u001b[0m\u001b[0mpath\u001b[0m\u001b[0;34m)\u001b[0m\u001b[0;34m\u001b[0m\u001b[0;34m\u001b[0m\u001b[0m\n\u001b[0m\u001b[1;32m    147\u001b[0m     \u001b[0mz_spec\u001b[0m\u001b[0;34m,\u001b[0m \u001b[0mz_photo_mean\u001b[0m\u001b[0;34m,\u001b[0m \u001b[0mz_photo_err\u001b[0m \u001b[0;34m=\u001b[0m \u001b[0mfind_redshift\u001b[0m\u001b[0;34m(\u001b[0m\u001b[0mobj_lists\u001b[0m\u001b[0;34m,\u001b[0m \u001b[0mpath\u001b[0m\u001b[0;34m,\u001b[0m \u001b[0mra\u001b[0m\u001b[0;34m,\u001b[0m \u001b[0mdec\u001b[0m\u001b[0;34m)\u001b[0m\u001b[0;34m\u001b[0m\u001b[0;34m\u001b[0m\u001b[0m\n\u001b[1;32m    148\u001b[0m     \u001b[0;32mreturn\u001b[0m \u001b[0;34m{\u001b[0m\u001b[0;34m'z_spec'\u001b[0m\u001b[0;34m:\u001b[0m \u001b[0mz_spec\u001b[0m\u001b[0;34m,\u001b[0m \u001b[0;34m'mean'\u001b[0m\u001b[0;34m:\u001b[0m \u001b[0mz_photo_mean\u001b[0m\u001b[0;34m,\u001b[0m\u001b[0;34m'err'\u001b[0m\u001b[0;34m:\u001b[0m \u001b[0mz_photo_err\u001b[0m\u001b[0;34m}\u001b[0m\u001b[0;34m\u001b[0m\u001b[0;34m\u001b[0m\u001b[0m\n",
      "\u001b[0;32m~/Pi_Squared/get_redshift.py\u001b[0m in \u001b[0;36mfind_ID_RA_DEC_lists_in_brick\u001b[0;34m(brick_path)\u001b[0m\n\u001b[1;32m     90\u001b[0m         \u001b[0mof\u001b[0m \u001b[0mall\u001b[0m \u001b[0mobjects\u001b[0m \u001b[0;32min\u001b[0m \u001b[0mthe\u001b[0m \u001b[0mbrick\u001b[0m \u001b[0msweep\u001b[0m \u001b[0mfile\u001b[0m\u001b[0;34m.\u001b[0m\u001b[0;34m\u001b[0m\u001b[0;34m\u001b[0m\u001b[0m\n\u001b[1;32m     91\u001b[0m     '''\n\u001b[0;32m---> 92\u001b[0;31m     \u001b[0mhdus\u001b[0m \u001b[0;34m=\u001b[0m \u001b[0mfits\u001b[0m\u001b[0;34m.\u001b[0m\u001b[0mopen\u001b[0m\u001b[0;34m(\u001b[0m\u001b[0mbrick_path\u001b[0m\u001b[0;34m)\u001b[0m\u001b[0;34m\u001b[0m\u001b[0;34m\u001b[0m\u001b[0m\n\u001b[0m\u001b[1;32m     93\u001b[0m     \u001b[0mdata\u001b[0m \u001b[0;34m=\u001b[0m \u001b[0mTable\u001b[0m\u001b[0;34m(\u001b[0m\u001b[0mhdus\u001b[0m\u001b[0;34m[\u001b[0m\u001b[0;36m1\u001b[0m\u001b[0;34m]\u001b[0m\u001b[0;34m.\u001b[0m\u001b[0mdata\u001b[0m\u001b[0;34m)\u001b[0m\u001b[0;34m\u001b[0m\u001b[0;34m\u001b[0m\u001b[0m\n\u001b[1;32m     94\u001b[0m     \u001b[0;32mreturn\u001b[0m \u001b[0;34m[\u001b[0m\u001b[0mlist\u001b[0m\u001b[0;34m(\u001b[0m\u001b[0mdata\u001b[0m\u001b[0;34m[\u001b[0m\u001b[0;34m'OBJID'\u001b[0m\u001b[0;34m]\u001b[0m\u001b[0;34m)\u001b[0m\u001b[0;34m,\u001b[0m \u001b[0mlist\u001b[0m\u001b[0;34m(\u001b[0m\u001b[0mdata\u001b[0m\u001b[0;34m[\u001b[0m\u001b[0;34m'RA'\u001b[0m\u001b[0;34m]\u001b[0m\u001b[0;34m)\u001b[0m\u001b[0;34m,\u001b[0m \u001b[0mlist\u001b[0m\u001b[0;34m(\u001b[0m\u001b[0mdata\u001b[0m\u001b[0;34m[\u001b[0m\u001b[0;34m'DEC'\u001b[0m\u001b[0;34m]\u001b[0m\u001b[0;34m)\u001b[0m\u001b[0;34m]\u001b[0m\u001b[0;34m\u001b[0m\u001b[0;34m\u001b[0m\u001b[0m\n",
      "\u001b[0;32m~/opt/anaconda3/lib/python3.9/site-packages/astropy/io/fits/hdu/hdulist.py\u001b[0m in \u001b[0;36mfitsopen\u001b[0;34m(name, mode, memmap, save_backup, cache, lazy_load_hdus, ignore_missing_simple, **kwargs)\u001b[0m\n\u001b[1;32m    171\u001b[0m         \u001b[0;32mraise\u001b[0m \u001b[0mValueError\u001b[0m\u001b[0;34m(\u001b[0m\u001b[0;34mf'Empty filename: {name!r}'\u001b[0m\u001b[0;34m)\u001b[0m\u001b[0;34m\u001b[0m\u001b[0;34m\u001b[0m\u001b[0m\n\u001b[1;32m    172\u001b[0m \u001b[0;34m\u001b[0m\u001b[0m\n\u001b[0;32m--> 173\u001b[0;31m     return HDUList.fromfile(name, mode, memmap, save_backup, cache,\n\u001b[0m\u001b[1;32m    174\u001b[0m                             lazy_load_hdus, ignore_missing_simple, **kwargs)\n\u001b[1;32m    175\u001b[0m \u001b[0;34m\u001b[0m\u001b[0m\n",
      "\u001b[0;32m~/opt/anaconda3/lib/python3.9/site-packages/astropy/io/fits/hdu/hdulist.py\u001b[0m in \u001b[0;36mfromfile\u001b[0;34m(cls, fileobj, mode, memmap, save_backup, cache, lazy_load_hdus, ignore_missing_simple, **kwargs)\u001b[0m\n\u001b[1;32m    406\u001b[0m         \"\"\"\n\u001b[1;32m    407\u001b[0m \u001b[0;34m\u001b[0m\u001b[0m\n\u001b[0;32m--> 408\u001b[0;31m         return cls._readfrom(fileobj=fileobj, mode=mode, memmap=memmap,\n\u001b[0m\u001b[1;32m    409\u001b[0m                              \u001b[0msave_backup\u001b[0m\u001b[0;34m=\u001b[0m\u001b[0msave_backup\u001b[0m\u001b[0;34m,\u001b[0m \u001b[0mcache\u001b[0m\u001b[0;34m=\u001b[0m\u001b[0mcache\u001b[0m\u001b[0;34m,\u001b[0m\u001b[0;34m\u001b[0m\u001b[0;34m\u001b[0m\u001b[0m\n\u001b[1;32m    410\u001b[0m                              \u001b[0mignore_missing_simple\u001b[0m\u001b[0;34m=\u001b[0m\u001b[0mignore_missing_simple\u001b[0m\u001b[0;34m,\u001b[0m\u001b[0;34m\u001b[0m\u001b[0;34m\u001b[0m\u001b[0m\n",
      "\u001b[0;32m~/opt/anaconda3/lib/python3.9/site-packages/astropy/io/fits/hdu/hdulist.py\u001b[0m in \u001b[0;36m_readfrom\u001b[0;34m(cls, fileobj, data, mode, memmap, cache, lazy_load_hdus, ignore_missing_simple, **kwargs)\u001b[0m\n\u001b[1;32m   1062\u001b[0m             \u001b[0;32mif\u001b[0m \u001b[0;32mnot\u001b[0m \u001b[0misinstance\u001b[0m\u001b[0;34m(\u001b[0m\u001b[0mfileobj\u001b[0m\u001b[0;34m,\u001b[0m \u001b[0m_File\u001b[0m\u001b[0;34m)\u001b[0m\u001b[0;34m:\u001b[0m\u001b[0;34m\u001b[0m\u001b[0;34m\u001b[0m\u001b[0m\n\u001b[1;32m   1063\u001b[0m                 \u001b[0;31m# instantiate a FITS file object (ffo)\u001b[0m\u001b[0;34m\u001b[0m\u001b[0;34m\u001b[0m\u001b[0m\n\u001b[0;32m-> 1064\u001b[0;31m                 \u001b[0mfileobj\u001b[0m \u001b[0;34m=\u001b[0m \u001b[0m_File\u001b[0m\u001b[0;34m(\u001b[0m\u001b[0mfileobj\u001b[0m\u001b[0;34m,\u001b[0m \u001b[0mmode\u001b[0m\u001b[0;34m=\u001b[0m\u001b[0mmode\u001b[0m\u001b[0;34m,\u001b[0m \u001b[0mmemmap\u001b[0m\u001b[0;34m=\u001b[0m\u001b[0mmemmap\u001b[0m\u001b[0;34m,\u001b[0m \u001b[0mcache\u001b[0m\u001b[0;34m=\u001b[0m\u001b[0mcache\u001b[0m\u001b[0;34m)\u001b[0m\u001b[0;34m\u001b[0m\u001b[0;34m\u001b[0m\u001b[0m\n\u001b[0m\u001b[1;32m   1065\u001b[0m             \u001b[0;31m# The Astropy mode is determined by the _File initializer if the\u001b[0m\u001b[0;34m\u001b[0m\u001b[0;34m\u001b[0m\u001b[0m\n\u001b[1;32m   1066\u001b[0m             \u001b[0;31m# supplied mode was None\u001b[0m\u001b[0;34m\u001b[0m\u001b[0;34m\u001b[0m\u001b[0m\n",
      "\u001b[0;32m~/opt/anaconda3/lib/python3.9/site-packages/astropy/utils/decorators.py\u001b[0m in \u001b[0;36mwrapper\u001b[0;34m(*args, **kwargs)\u001b[0m\n\u001b[1;32m    534\u001b[0m                     \u001b[0mwarnings\u001b[0m\u001b[0;34m.\u001b[0m\u001b[0mwarn\u001b[0m\u001b[0;34m(\u001b[0m\u001b[0mmessage\u001b[0m\u001b[0;34m,\u001b[0m \u001b[0mwarning_type\u001b[0m\u001b[0;34m,\u001b[0m \u001b[0mstacklevel\u001b[0m\u001b[0;34m=\u001b[0m\u001b[0;36m2\u001b[0m\u001b[0;34m)\u001b[0m\u001b[0;34m\u001b[0m\u001b[0;34m\u001b[0m\u001b[0m\n\u001b[1;32m    535\u001b[0m \u001b[0;34m\u001b[0m\u001b[0m\n\u001b[0;32m--> 536\u001b[0;31m             \u001b[0;32mreturn\u001b[0m \u001b[0mfunction\u001b[0m\u001b[0;34m(\u001b[0m\u001b[0;34m*\u001b[0m\u001b[0margs\u001b[0m\u001b[0;34m,\u001b[0m \u001b[0;34m**\u001b[0m\u001b[0mkwargs\u001b[0m\u001b[0;34m)\u001b[0m\u001b[0;34m\u001b[0m\u001b[0;34m\u001b[0m\u001b[0m\n\u001b[0m\u001b[1;32m    537\u001b[0m \u001b[0;34m\u001b[0m\u001b[0m\n\u001b[1;32m    538\u001b[0m         \u001b[0;32mreturn\u001b[0m \u001b[0mwrapper\u001b[0m\u001b[0;34m\u001b[0m\u001b[0;34m\u001b[0m\u001b[0m\n",
      "\u001b[0;32m~/opt/anaconda3/lib/python3.9/site-packages/astropy/io/fits/file.py\u001b[0m in \u001b[0;36m__init__\u001b[0;34m(self, fileobj, mode, memmap, overwrite, cache)\u001b[0m\n\u001b[1;32m    170\u001b[0m             \u001b[0mself\u001b[0m\u001b[0;34m.\u001b[0m\u001b[0m_open_filename\u001b[0m\u001b[0;34m(\u001b[0m\u001b[0mfileobj\u001b[0m\u001b[0;34m,\u001b[0m \u001b[0mmode\u001b[0m\u001b[0;34m,\u001b[0m \u001b[0moverwrite\u001b[0m\u001b[0;34m)\u001b[0m\u001b[0;34m\u001b[0m\u001b[0;34m\u001b[0m\u001b[0m\n\u001b[1;32m    171\u001b[0m         \u001b[0;32melse\u001b[0m\u001b[0;34m:\u001b[0m\u001b[0;34m\u001b[0m\u001b[0;34m\u001b[0m\u001b[0m\n\u001b[0;32m--> 172\u001b[0;31m             \u001b[0mself\u001b[0m\u001b[0;34m.\u001b[0m\u001b[0m_open_filelike\u001b[0m\u001b[0;34m(\u001b[0m\u001b[0mfileobj\u001b[0m\u001b[0;34m,\u001b[0m \u001b[0mmode\u001b[0m\u001b[0;34m,\u001b[0m \u001b[0moverwrite\u001b[0m\u001b[0;34m)\u001b[0m\u001b[0;34m\u001b[0m\u001b[0;34m\u001b[0m\u001b[0m\n\u001b[0m\u001b[1;32m    173\u001b[0m \u001b[0;34m\u001b[0m\u001b[0m\n\u001b[1;32m    174\u001b[0m         \u001b[0mself\u001b[0m\u001b[0;34m.\u001b[0m\u001b[0mfileobj_mode\u001b[0m \u001b[0;34m=\u001b[0m \u001b[0mfileobj_mode\u001b[0m\u001b[0;34m(\u001b[0m\u001b[0mself\u001b[0m\u001b[0;34m.\u001b[0m\u001b[0m_file\u001b[0m\u001b[0;34m)\u001b[0m\u001b[0;34m\u001b[0m\u001b[0;34m\u001b[0m\u001b[0m\n",
      "\u001b[0;32m~/opt/anaconda3/lib/python3.9/site-packages/astropy/io/fits/file.py\u001b[0m in \u001b[0;36m_open_filelike\u001b[0;34m(self, fileobj, mode, overwrite)\u001b[0m\n\u001b[1;32m    533\u001b[0m         if (self.mode in ('update', 'append', 'ostream') and\n\u001b[1;32m    534\u001b[0m                 not hasattr(self._file, 'write')):\n\u001b[0;32m--> 535\u001b[0;31m             raise OSError(\"File-like object does not have a 'write' \"\n\u001b[0m\u001b[1;32m    536\u001b[0m                           \"method, required for mode '{}'.\".format(self.mode))\n\u001b[1;32m    537\u001b[0m \u001b[0;34m\u001b[0m\u001b[0m\n",
      "\u001b[0;31mOSError\u001b[0m: File-like object does not have a 'write' method, required for mode 'ostream'."
     ]
    }
   ],
   "source": [
    "first = legacy.container[0]\n",
    "print(first.meta.keys())\n",
    "start_tot = time.time()\n",
    "for i, j in enumerate(legacy.container[:10]):\n",
    "    start = time.time()\n",
    "    a = get_redshift.do_all(j.ra_pseudo_host, j.dec_pseudo_host)\n",
    "    end = time.time()\n",
    "    print('runtime:', end - start)\n",
    "    if a['z_spec'] != -99:\n",
    "        j.meta['redshift'] = a['z_spec']\n",
    "        j.meta['z_spec'] = 1\n",
    "    else:\n",
    "        j.meta['redshift'] = a['mean']\n",
    "        j.meta['z_spec'] = 0\n",
    "    j.meta['hostgal_photoz'] = a['mean']\n",
    "    j.meta['hostgal_photoz_err'] = a['err']\n",
    "    print(a)\n",
    "end_tot = time.time()\n",
    "print('total runtime:', end_tot - start_tot)"
   ]
  },
  {
   "cell_type": "code",
   "execution_count": null,
   "id": "e4df97a4",
   "metadata": {},
   "outputs": [],
   "source": [
    "for i in legacy.container[:10]:\n",
    "    i.use_lsst_filters()\n",
    "    \n",
    "for i in legacy.container[:20]:\n",
    "    print(i.filter_type)"
   ]
  },
  {
   "cell_type": "code",
   "execution_count": null,
   "id": "5a5462ca",
   "metadata": {},
   "outputs": [],
   "source": [
    "for i in legacy.container[:10]:\n",
    "    i.create_lc_data()\n",
    "    print(i.light_curve.meta)"
   ]
  },
  {
   "cell_type": "code",
   "execution_count": null,
   "id": "ea2e0021",
   "metadata": {},
   "outputs": [],
   "source": [
    "dataset = lcdata.from_light_curves([i.light_curve for i in legacy.container[:10]])\n",
    "dataset.write_hdf5('./dataset.h5')\n"
   ]
  },
  {
   "cell_type": "code",
   "execution_count": null,
   "id": "5db5a297",
   "metadata": {},
   "outputs": [],
   "source": [
    "dataset = parsnip.load_dataset('./dataset.h5')"
   ]
  },
  {
   "cell_type": "code",
   "execution_count": null,
   "id": "d207c248",
   "metadata": {},
   "outputs": [],
   "source": [
    "dataset.meta"
   ]
  },
  {
   "cell_type": "code",
   "execution_count": null,
   "id": "5d08429a",
   "metadata": {},
   "outputs": [],
   "source": [
    "dataset.light_curves"
   ]
  },
  {
   "cell_type": "code",
   "execution_count": null,
   "id": "e29496b1",
   "metadata": {},
   "outputs": [],
   "source": [
    "a = legacy.container[561]\n",
    "print(a)\n",
    "print(a.meta)"
   ]
  },
  {
   "cell_type": "code",
   "execution_count": null,
   "id": "975dca04",
   "metadata": {},
   "outputs": [],
   "source": [
    "with h5py.File('dataset.h5', 'r') as f:\n",
    "    print(f.keys())\n",
    "    obs = f['observations']"
   ]
  },
  {
   "cell_type": "code",
   "execution_count": null,
   "id": "51ce5a5e",
   "metadata": {},
   "outputs": [],
   "source": []
  }
 ],
 "metadata": {
  "kernelspec": {
   "display_name": "Python 3 (ipykernel)",
   "language": "python",
   "name": "python3"
  },
  "language_info": {
   "codemirror_mode": {
    "name": "ipython",
    "version": 3
   },
   "file_extension": ".py",
   "mimetype": "text/x-python",
   "name": "python",
   "nbconvert_exporter": "python",
   "pygments_lexer": "ipython3",
   "version": "3.9.7"
  }
 },
 "nbformat": 4,
 "nbformat_minor": 5
}
