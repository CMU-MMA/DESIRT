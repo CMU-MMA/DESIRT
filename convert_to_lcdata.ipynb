{
 "cells": [
  {
   "cell_type": "code",
   "execution_count": 1,
   "id": "82628f02-7e3f-4e2c-9c45-bcab22efa496",
   "metadata": {},
   "outputs": [],
   "source": [
    "import glob, os\n",
    "import fnmatch\n",
    "import sys\n",
    "import astropy\n",
    "import json\n",
    "import parsnip\n",
    "import pandas as pd\n",
    "from matplotlib import pyplot as plt\n",
    "import h5py\n",
    "import numpy as np\n",
    "from scipy.optimize import curve_fit\n",
    "import lcdata\n",
    "from astropy.table import Table\n",
    "import csv\n",
    "from tika import parser"
   ]
  },
  {
   "cell_type": "code",
   "execution_count": 2,
   "id": "7d2c1a68-6e85-4551-82e4-6312b974a310",
   "metadata": {},
   "outputs": [],
   "source": [
    "def parse_jsons(photometry_path, object_name):\n",
    "    '''\n",
    "    Finds object ID, ra, and dec for older data from a json file.\n",
    "    '''\n",
    "    jsons = \"\"\n",
    "    for file in os.listdir(f'{photometry_path}{object_name}/'):\n",
    "        # print(file)\n",
    "        if file.endswith(\".json\"):\n",
    "            # print('hi')\n",
    "            f = open(f'{photometry_path}{object_name}/{file}')\n",
    "            data = json.load(f)\n",
    "            print(data.keys())\n",
    "            # print(data)\n",
    "            id = data[\"ObjectID\"]\n",
    "            # id = 11\n",
    "            ra = data['RA-OBJECT']\n",
    "            dec = data['DEC-OBJECT']\n",
    "            jsons = True\n",
    "            # print (id, ra, dec)\n",
    "    if not jsons:\n",
    "        print(\"could not find json file for \"+object_name+\", not creating lcdata for it\")\n",
    "        return \"\", \"\", \"\"\n",
    "        \n",
    "    return id, ra, dec"
   ]
  },
  {
   "cell_type": "code",
   "execution_count": 3,
   "id": "44ee9f93-4a62-48e1-9a83-3892520a4c0a",
   "metadata": {},
   "outputs": [],
   "source": [
    "def parse_pdfs(photometry_path, object_name):\n",
    "    '''\n",
    "    Finds redshift from pdf files for older data. \n",
    "    '''\n",
    "    text = ''\n",
    "    for file in os.listdir(f'{photometry_path}{object_name}/'):\n",
    "        if file.endswith(\".pdf\"):\n",
    "            # print(file)\n",
    "            pdf = parser.from_file(f'{photometry_path}{object_name}/{file}')\n",
    "            text = pdf['content']\n",
    "            \n",
    "    if not text:\n",
    "        print(f'Error with finding pdf file/redshift for {object_name}, setting redshift to 0')\n",
    "        return 0\n",
    "            # print(text)\n",
    "\n",
    "    zs = \"\"\n",
    "    for i in range(len(text)):\n",
    "        if text[i].startswith(\"T\"):\n",
    "            # find the redshift for the dataset\n",
    "            for j in range(i, i+50):\n",
    "                if text[j:j+8].startswith('| 0.'):\n",
    "                    substring = text[j+2:j+9]\n",
    "                    if \"\\n\" in substring:\n",
    "                        substring = substring.replace(\"\\n\", \"\")  # Remove newline character if present\n",
    "                    zs += substring\n",
    "            break\n",
    "\n",
    "        if text[i].startswith(\"A\"):\n",
    "            # find the redshift for the dataset\n",
    "            for j in range(i, i+50):\n",
    "                if text[j:j+8].startswith('| 0.'):\n",
    "                    substring = text[j+2:j+9]\n",
    "                    if \"\\n\" in substring:\n",
    "                        substring = substring.replace(\"\\n\", \"\")  # Remove newline character if present\n",
    "                    zs += substring\n",
    "            break\n",
    "\n",
    "    if not zs:\n",
    "        #print(f'Could not find redshift for {object_name}; setting it to 0')\n",
    "        zs = \"0\"\n",
    "        \n",
    "    # print(f'Redshift is {zs}')\n",
    "    return zs\n"
   ]
  },
  {
   "cell_type": "code",
   "execution_count": 4,
   "id": "d5dcae76-5636-4736-9078-032e7fc09286",
   "metadata": {},
   "outputs": [],
   "source": [
    "def make_lctable(photometry_path, object_name):\n",
    "    '''\n",
    "    Looks at csv file for given object and creates a light curve from it. \n",
    "    '''\n",
    "    lightcurveTable = Table(names=('time(mjd)', 'flux', 'fluxerr', 'mag', 'magerr', 'band'), dtype=('f', 'f', 'f', 'f', 'f','S'))\n",
    "\n",
    "    for file in os.listdir(f'{photometry_path}{object_name}/'):\n",
    "        if file.endswith(\".csv\"):\n",
    "            csvFile = open(f'{photometry_path}{object_name}/{file}')\n",
    "            reader = csv.DictReader(csvFile)\n",
    "            for row in reader:\n",
    "                if row['alert'] == 'True':\n",
    "                    time = row['mjd']\n",
    "                    mag = float(row['mag'])\n",
    "                    magerr = float(row['magerr'])\n",
    "                    flux = 10**((22.5-mag)/2.5)\n",
    "                    fluxerr = flux * np.log(10) / 2.5 * magerr\n",
    "                    band = 'lsst' + row['filter']\n",
    "                    lightcurveTable.add_row((time, flux, fluxerr, mag, magerr, band))\n",
    "                    \n",
    "    return lightcurveTable"
   ]
  },
  {
   "cell_type": "code",
   "execution_count": 5,
   "id": "080e34db-fdb9-4563-843e-07e51af1c63c",
   "metadata": {},
   "outputs": [],
   "source": [
    "#combine the two tables into lcdata\n",
    "def combine_tables(lightcurveTable, id, ra, dec, zs, type='nan'):\n",
    "    \n",
    "    light_curve = Table({\n",
    "         'time': list(lightcurveTable['time(mjd)']),\n",
    "         'flux': list(lightcurveTable['flux']),\n",
    "         'fluxerr': list(lightcurveTable['fluxerr']),\n",
    "         'mag': list(lightcurveTable['mag']),\n",
    "         'magerr': list(lightcurveTable['magerr']),\n",
    "         'band': list(lightcurveTable['band']),})\n",
    "\n",
    "    # print(light_curve, '\\n')\n",
    "\n",
    "    light_curve.meta = {\n",
    "        'object_id': id,\n",
    "        'ra': ra,\n",
    "        'dec': dec,\n",
    "        'type': type,\n",
    "        'redshift': zs}\n",
    "    \n",
    "    dataset = lcdata.from_light_curves([light_curve])\n",
    "    \n",
    "    return dataset\n",
    "\n",
    "# print(light_curve.meta)"
   ]
  },
  {
   "cell_type": "code",
   "execution_count": 6,
   "id": "d8a7e285-bec6-4567-927f-fd393f92e4c1",
   "metadata": {},
   "outputs": [],
   "source": [
    "def lcformat_old_data(photometry_path, object_name, output_dir, type='nan'):\n",
    "    id, ra, dec = parse_jsons(photometry_path, object_name)\n",
    "    \n",
    "    # if not id:\n",
    "    #     print(f'Incorrectly recognized {object_name} as an object. Skipping this one')\n",
    "    \n",
    "    if id:\n",
    "        zs = parse_pdfs(photometry_path, object_name)\n",
    "\n",
    "        lctable = make_lctable(photometry_path, object_name)\n",
    "\n",
    "\n",
    "        lcdataset = combine_tables(lctable, id, ra, dec, zs, type)\n",
    "\n",
    "        output_path = f'{output_dir}{object_name}.hdf5'\n",
    "    \n",
    "        directory = os.path.dirname(os.path.abspath(output_path))\n",
    "        os.makedirs(directory, exist_ok=True)\n",
    "\n",
    "        if os.path.exists(output_path):\n",
    "            exists.append(output_path)\n",
    "            #print(f\"File '{output_path}' already exists. Skipping dataset writing.\")\n",
    "        else:\n",
    "            lcdataset.write_hdf5(output_path)\n",
    "            #print(f\"Dataset ({len(lcdataset)} objects) has been written into {output_path}\")\n",
    "    \n",
    "    "
   ]
  },
  {
   "cell_type": "code",
   "execution_count": 7,
   "id": "c46e2aec-42af-4b54-bf9b-e5c87a45e3b4",
   "metadata": {},
   "outputs": [],
   "source": [
    "def fit_mags(photometry_path, object_name):\n",
    "    '''\n",
    "    Looks at csv file for given object and returns array of its mags and mag errors\n",
    "    '''\n",
    "    maglist = []\n",
    "    magerrlist = []\n",
    "    for file in os.listdir(f'{photometry_path}{object_name}/'):\n",
    "        if file.endswith(\".csv\"):\n",
    "            csvFile = open(f'{photometry_path}{object_name}/{file}')\n",
    "            reader = csv.DictReader(csvFile)\n",
    "            for row in reader:\n",
    "                if 'alert' in row:\n",
    "                    if row['alert'] == 'True':\n",
    "                        mag = float(row['mag'])\n",
    "                        magerr = float(row['magerr'])\n",
    "                        maglist.append(mag)\n",
    "                        magerrlist.append(magerr)\n",
    "                    \n",
    "    return maglist, magerrlist"
   ]
  },
  {
   "cell_type": "code",
   "execution_count": 20,
   "id": "8a098390-c7e1-41da-af57-63e7e4c60c60",
   "metadata": {},
   "outputs": [],
   "source": [
    "#get all old data in lcdata format\n",
    "photometry_path = '/global/cfs/cdirs/m4237/desirt/2021_data/aperture_photometry/LCData_Legacy/'\n",
    "output_dir = '/global/cfs/cdirs/m4237/desirt/2021_data/lcdata/'\n",
    "\n",
    "magstotal = []\n",
    "magerrstotal = []\n",
    "for objectname in os.listdir(photometry_path):\n",
    "    if os.path.isdir(f'{photometry_path}{objectname}'):\n",
    "        # parse_jsons(photometry_path, objectname)\n",
    "        # lcformat_old_data(photometry_path, objectname, output_dir)\n",
    "        maglist, magerrlist = fit_mags(photometry_path, objectname)\n",
    "        magstotal.append(maglist)\n",
    "        magerrstotal.append(magerrstotal)\n",
    "        "
   ]
  },
  {
   "cell_type": "code",
   "execution_count": 8,
   "id": "cfdb880b-d198-4158-86e9-7b6ef62ef7f3",
   "metadata": {},
   "outputs": [],
   "source": [
    "#section for new data\n",
    "import os\n",
    "# os.listdir('/global/cfs/cdirs/m4237/gesa/DCDE4/ObjectDir/Legacy/A202303191446357p072803')\n",
    "new_path = '/global/cfs/cdirs/m4237/gesa/DCDE/ObjectDir/Legacy/'\n",
    "# print(os.listdir(new_path))\n",
    "# object_name = 'T202304091111386m063203'\n",
    "object_name = 'A202302110338163m160947'"
   ]
  },
  {
   "cell_type": "code",
   "execution_count": 9,
   "id": "d8027909-d685-444c-a16f-03826a372a19",
   "metadata": {},
   "outputs": [],
   "source": [
    "#new data\n",
    "def new_files_metadata(new_path, object_name):\n",
    "    directory_path = f'{new_path}{object_name}/'\n",
    "    id_name = str(object_name)\n",
    "    ra = \"\"\n",
    "    dec = \"\"\n",
    "    lightcurveTable = Table(names=('time(mjd)', 'flux', 'fluxerr', 'mag', 'magerr', 'band'), dtype=('f', 'f', 'f', 'f', 'f','S'))\n",
    "\n",
    "    if not os.path.isdir(directory_path):\n",
    "        # print(f'{directory_path} is not a directory')\n",
    "        return None, None, None\n",
    "    if not os.path.exists(f'{new_path}{object_name}/alertUltra.csv'):\n",
    "        print(f'No alertUltra.csv file for {object_name}.')\n",
    "        # print(os.listdir(f'{new_path}{object_name}/'))\n",
    "        return None, None, None\n",
    "\n",
    "    csvFile = open(f'{new_path}{object_name}/alertUltra.csv')\n",
    "    reader = csv.DictReader(csvFile)\n",
    "\n",
    "\n",
    "    for row in reader:\n",
    "        # print(row)\n",
    "        ra = row['legacyGalRa']\n",
    "        dec = row['legacyGalDec']\n",
    "        # if 'ObjectID' in row:\n",
    "        #     id_name = row['ObjectID']\n",
    "            # print(id_name)\n",
    "        # else:\n",
    "        #     id_name = str(object_name)\n",
    "                \n",
    "    return id_name, ra, dec\n"
   ]
  },
  {
   "cell_type": "code",
   "execution_count": 10,
   "id": "3ca530e0-0ebb-4943-a45f-8161c3ab5a95",
   "metadata": {},
   "outputs": [],
   "source": [
    "def new_files_lctable(new_path, object_name):\n",
    "    lightcurveTable = Table(names=('time(mjd)', 'flux', 'fluxerr', 'mag', 'magerr', 'band'), \n",
    "                            dtype=('f', 'f', 'f', 'f', 'f','S'))\n",
    "    if os.path.exists(f'{new_path}{object_name}/alertUltra.csv'):\n",
    "        csvFile = open(f'{new_path}{object_name}/alertUltra.csv')\n",
    "        reader = csv.DictReader(csvFile)\n",
    "\n",
    "        for row in reader:\n",
    "            if 'AlertID' in row:\n",
    "                if row['AlertID'] and row['MAG_APERc']:\n",
    "                    time = row['MJD_OBS_SCI']\n",
    "                    # print(row['MAG_APERc'])\n",
    "                    mag = float(row['MAG_APERc'])\n",
    "                    magerr = float(row['MAGERR_APER'])\n",
    "                    flux = 10**((22.5-mag)/2.5)\n",
    "                    fluxerr = flux * np.log(10) / 2.5 * magerr\n",
    "                    filename = row['REFNAME']\n",
    "                    long_string = filename.split(\"_\")[4]\n",
    "                    band = 'lsst' + long_string\n",
    "                    lightcurveTable.add_row((time, flux, fluxerr, mag, magerr, band))\n",
    "\n",
    "        return lightcurveTable\n",
    "    \n",
    "    else:\n",
    "        print(object_name)\n"
   ]
  },
  {
   "cell_type": "code",
   "execution_count": 11,
   "id": "1c487786-660c-479c-82d2-bce83b0e7765",
   "metadata": {},
   "outputs": [],
   "source": [
    "def find_redshift(target_id, csv_file_path='decam_desi_crossmatch.csv'):\n",
    "    '''\n",
    "    Looks to see if redshift present in the redshift matched decam_desi_crossmatch.csv file\n",
    "    '''\n",
    "    zs = \"\"\n",
    "    with open(csv_file_path, 'r') as csv_file:\n",
    "        csv_reader = csv.reader(csv_file)\n",
    "        next(csv_reader)  # Skip the header row\n",
    "        for row in csv_reader:\n",
    "            # print(row)\n",
    "            if row[1] == target_id:\n",
    "                # print(row)\n",
    "                if row[4]:\n",
    "                    zs = row[4]\n",
    "                    #print(f'Found z={zs} for {object_name}')\n",
    "                    # print(zs)\n",
    "        # If no match is found\n",
    "        if not zs:\n",
    "            # print(f'Could not find redshift for {object_name}; setting it to 0')\n",
    "            zs = \"0\"\n",
    "        return zs"
   ]
  },
  {
   "cell_type": "code",
   "execution_count": 13,
   "id": "88386864-2457-4f88-b8ef-64a1addd58f1",
   "metadata": {},
   "outputs": [
    {
     "data": {
      "text/plain": [
       "'0'"
      ]
     },
     "execution_count": 13,
     "metadata": {},
     "output_type": "execute_result"
    }
   ],
   "source": [
    "find_redshift('A202302110338163m160947')"
   ]
  },
  {
   "cell_type": "code",
   "execution_count": 12,
   "id": "91c67962-2edb-4ca8-bb5f-42e9db7631ae",
   "metadata": {},
   "outputs": [],
   "source": [
    "no_id = []\n",
    "exists= []\n",
    "looped = []\n",
    "written = []\n",
    "ids = []"
   ]
  },
  {
   "cell_type": "code",
   "execution_count": 13,
   "id": "bc06117f-750a-41b3-9f85-38c8beefeb48",
   "metadata": {},
   "outputs": [],
   "source": [
    "def convert_lcdata_new(new_path, object_name, output_dir):\n",
    "    id, ra, dec = new_files_metadata(new_path, object_name)\n",
    "    looped.append(object_name)\n",
    "    ids.append(id)\n",
    "    # print(id, ra, dec)\n",
    "    if not id:\n",
    "        no_id.append(object_name)\n",
    "#         print(f'Incorrectly recognized {object_name} as an object, or no ID found (non-detection). Skipping this one')\n",
    "    \n",
    "    if id:\n",
    "        lctable = new_files_lctable(new_path, object_name)\n",
    "        zs = find_redshift(str(id))\n",
    "        # if zs:\n",
    "        #     print(f'object {id} has z={zs}')\n",
    "        \n",
    "        lcdataset = combine_tables(lctable, id, ra, dec, zs, type)\n",
    "\n",
    "        output_path = f'{output_dir}{object_name}.hdf5'\n",
    "    \n",
    "        # directory = os.path.dirname(os.path.abspath(output_path))\n",
    "        # os.makedirs(directory, exist_ok=True)\n",
    "\n",
    "        if os.path.exists(output_path):\n",
    "            #print(f\"File '{output_path}' already exists. Skipping dataset writing.\")\n",
    "            exists.append(output_path)\n",
    "        else:\n",
    "            lcdataset.write_hdf5(output_path)\n",
    "            written.append(output_path)\n",
    "            #print(f\"Dataset ({len(lcdataset)} objects) was written into {output_path} w/ z={zs}\")\n",
    "    \n",
    "    "
   ]
  },
  {
   "cell_type": "code",
   "execution_count": 78,
   "id": "c2cb24cc-afc5-4eb3-87f1-c843ba43b83a",
   "metadata": {},
   "outputs": [],
   "source": [
    "new_path = '/global/cfs/cdirs/m4237/gesa/DCDE/ObjectDir/Legacy/'\n",
    "obj_list = []\n",
    "ra_list = []\n",
    "for object_name in os.listdir(new_path):\n",
    "    obj_list.append(object_name)"
   ]
  },
  {
   "cell_type": "code",
   "execution_count": 79,
   "id": "084e2fd9-147e-44cb-a4cf-7434bccb0f23",
   "metadata": {
    "tags": []
   },
   "outputs": [
    {
     "name": "stderr",
     "output_type": "stream",
     "text": [
      "Progress: 100%|██████████| 1005/1005 [00:22<00:00, 44.48file/s]\n"
     ]
    }
   ],
   "source": [
    "\n",
    "\n",
    "with tqdm(total=len(obj_list), desc='Progress', unit='file') as pbar:\n",
    "    for object_name in obj_list:\n",
    "        convert_lcdata_new(new_path, object_name, \n",
    "                           '/global/cfs/cdirs/m4237/desirt/new_data/DCDE/')\n",
    "        pbar.update(1)"
   ]
  },
  {
   "cell_type": "code",
   "execution_count": 81,
   "id": "1eb1b52e-fcec-49ee-99fd-80d1fe4781e2",
   "metadata": {
    "tags": []
   },
   "outputs": [
    {
     "name": "stdout",
     "output_type": "stream",
     "text": [
      "175 1005 24 806 1005\n"
     ]
    }
   ],
   "source": [
    "print(len(exists), len(looped), len(no_id), len(written), len(ids))\n",
    "# print(ids)"
   ]
  },
  {
   "cell_type": "code",
   "execution_count": 67,
   "id": "3df2d182-faa0-486d-bf7d-06952254d3cc",
   "metadata": {
    "tags": []
   },
   "outputs": [
    {
     "name": "stdout",
     "output_type": "stream",
     "text": [
      "175\n"
     ]
    }
   ],
   "source": [
    "obj_list = []\n",
    "for obj in os.listdir('/global/cfs/cdirs/m4237/desirt/new_data/DCDE/'):\n",
    "    obj_list.append(obj)\n",
    "print(len(obj_list))"
   ]
  },
  {
   "cell_type": "code",
   "execution_count": 82,
   "id": "23e964a9-4788-4d02-a728-d512aa1aca19",
   "metadata": {},
   "outputs": [
    {
     "name": "stdout",
     "output_type": "stream",
     "text": [
      "No alertUltra.csv file for T202207041235453p075324.\n",
      "No alertUltra.csv file for A202207011259022p064616.\n",
      "No alertUltra.csv file for A202207011500532p065000.\n",
      "No alertUltra.csv file for A202207011425499m011445.\n",
      "No alertUltra.csv file for A202206282123268p050749.\n",
      "No alertUltra.csv file for A202207011413372m000630.\n",
      "No alertUltra.csv file for T202207072257222p005232.\n",
      "No alertUltra.csv file for T202206282115439p044616.\n",
      "No alertUltra.csv file for T202206281507193p070252.\n",
      "No alertUltra.csv file for T202206281443596p073326.\n",
      "No alertUltra.csv file for A202207072256121m004511.\n",
      "No alertUltra.csv file for A202207011454476p055337.\n",
      "No alertUltra.csv file for T202207012113018p052516.\n",
      "No alertUltra.csv file for T202207072254254m002223.\n",
      "No alertUltra.csv file for T202207041517577p072340.\n",
      "No alertUltra.csv file for A202207011257504p055631.\n",
      "No alertUltra.csv file for A202207011253179p064427.\n",
      "No alertUltra.csv file for A202206282125412p063603.\n",
      "No alertUltra.csv file for A202206282118233p064223.\n",
      "No alertUltra.csv file for T202206281425067m003359.\n",
      "No alertUltra.csv file for A202207072254480m002620.\n",
      "No alertUltra.csv file for T202207072234334p001211.\n",
      "No alertUltra.csv file for T202207011307124p065434.\n",
      "No alertUltra.csv file for T202207011308226p070324.\n",
      "No alertUltra.csv file for T202207072229536m002306.\n",
      "No alertUltra.csv file for A202207011426231m003653.\n",
      "No alertUltra.csv file for A202207011250058p073532.\n",
      "No alertUltra.csv file for T202206281419495m003436.\n",
      "No alertUltra.csv file for T202207072257102m001219.\n",
      "No alertUltra.csv file for A202207072223523m002502.\n",
      "No alertUltra.csv file for A202207011238516p060831.\n",
      "No alertUltra.csv file for T202207011419209m001224.\n",
      "No alertUltra.csv file for T202207072300387p001223.\n",
      "No alertUltra.csv file for A202206282126012p064228.\n",
      "No alertUltra.csv file for A202207072255114p000305.\n",
      "No alertUltra.csv file for A202207072257301m001731.\n",
      "No alertUltra.csv file for A202207072218274p000657.\n",
      "No alertUltra.csv file for T202207011300384p062003.\n",
      "No alertUltra.csv file for A202207011415071p001604.\n",
      "No alertUltra.csv file for A202207011305311p065226.\n",
      "No alertUltra.csv file for T202207072257246m000656.\n",
      "No alertUltra.csv file for A202206251414084p000619.\n",
      "No alertUltra.csv file for A202207012132426p062839.\n",
      "No alertUltra.csv file for A202207011311128p051626.\n",
      "No alertUltra.csv file for T202206251309440p054500.\n",
      "No alertUltra.csv file for A202207011300434p080743.\n",
      "No alertUltra.csv file for T202207072237242p000842.\n",
      "No alertUltra.csv file for T202207011421565p000145.\n",
      "No alertUltra.csv file for T202207011419174m011750.\n",
      "No alertUltra.csv file for T202206251420588m005053.\n",
      "No alertUltra.csv file for A202207011248344p053829.\n",
      "No alertUltra.csv file for T202207072239334p000402.\n",
      "No alertUltra.csv file for A202207011426469m003033.\n",
      "No alertUltra.csv file for T202207072256284p001426.\n",
      "No alertUltra.csv file for T202207011306515p065854.\n",
      "No alertUltra.csv file for A202207072227109m003118.\n",
      "No alertUltra.csv file for A202206282111292p054743.\n",
      "No alertUltra.csv file for A202207011257499p081429.\n",
      "No alertUltra.csv file for A202207011307581p053355.\n",
      "No alertUltra.csv file for T202207041508116p063110.\n",
      "No alertUltra.csv file for A202207011241467p063407.\n",
      "No alertUltra.csv file for T202207072254555m003104.\n",
      "No alertUltra.csv file for T202207072223394p000635.\n",
      "No alertUltra.csv file for T202206281511349p053409.\n",
      "No alertUltra.csv file for A202207072223592p001233.\n",
      "No alertUltra.csv file for A202206282120107p044821.\n",
      "No alertUltra.csv file for A202207011306384p054523.\n",
      "No alertUltra.csv file for A202207072235261m004233.\n",
      "No alertUltra.csv file for T202207011249343p050118.\n",
      "No alertUltra.csv file for T202206251308214p051456.\n",
      "No alertUltra.csv file for T202207041421558m000312.\n",
      "No alertUltra.csv file for A202206281419411m015318.\n",
      "No alertUltra.csv file for A202206282128570p043208.\n",
      "No alertUltra.csv file for A202207011419493m005423.\n",
      "No alertUltra.csv file for T202207011238562p060937.\n",
      "No alertUltra.csv file for A202207011234436p070955.\n",
      "No alertUltra.csv file for T202207072225179p000725.\n",
      "No alertUltra.csv file for A202207011420400m015139.\n",
      "No alertUltra.csv file for A202206282115353p063908.\n",
      "No alertUltra.csv file for A202207011419166p002142.\n",
      "No alertUltra.csv file for A202207072259512m002342.\n",
      "No alertUltra.csv file for A202207072222575m004130.\n",
      "No alertUltra.csv file for A202207072235529m000507.\n",
      "No alertUltra.csv file for A202206282108425p062451.\n",
      "No alertUltra.csv file for A202207072237380p003648.\n",
      "No alertUltra.csv file for A202207072221195p001417.\n",
      "No alertUltra.csv file for A202207011302532p054540.\n",
      "No alertUltra.csv file for T202206282133547p040350.\n",
      "No alertUltra.csv file for T202207011301385p072522.\n",
      "No alertUltra.csv file for T202206281508149p082741.\n",
      "No alertUltra.csv file for T202207011257066p045847.\n",
      "No alertUltra.csv file for A202206192113175p040819.\n",
      "No alertUltra.csv file for A202207011310448p054838.\n",
      "No alertUltra.csv file for T202207072257085p003646.\n",
      "No alertUltra.csv file for A202207011311236p053154.\n",
      "No alertUltra.csv file for T202207012125019p040328.\n",
      "No alertUltra.csv file for T202206251425131p000702.\n",
      "No alertUltra.csv file for A202206282131316p052021.\n",
      "No alertUltra.csv file for A202207072256579m004827.\n",
      "No alertUltra.csv file for T202207072226018m002727.\n",
      "No alertUltra.csv file for T202206251418191m013944.\n",
      "No alertUltra.csv file for T202207072254223p000445.\n",
      "No alertUltra.csv file for A202207011248265p050441.\n",
      "No alertUltra.csv file for A202207072222419p002518.\n",
      "No alertUltra.csv file for A202207072229300m002105.\n",
      "No alertUltra.csv file for T202206251306030p073608.\n",
      "No alertUltra.csv file for A202207011422584p004046.\n",
      "No alertUltra.csv file for A202207042112350p044712.\n",
      "No alertUltra.csv file for A202207041518424p075446.\n",
      "No alertUltra.csv file for T202207072259206m004653.\n",
      "No alertUltra.csv file for A202207011427107m002449.\n",
      "0 671 136 535 671\n"
     ]
    }
   ],
   "source": [
    "no_id = []\n",
    "exists= []\n",
    "looped = []\n",
    "written = []\n",
    "ids = []\n",
    "\n",
    "new_path = '/global/cfs/cdirs/m4237/gesa/DCDE2/ObjectDir/Legacy/'\n",
    "obj_list = []\n",
    "\n",
    "for object_name in os.listdir(new_path):\n",
    "    obj_list.append(object_name)\n",
    "\n",
    "for object_name in obj_list:\n",
    "    convert_lcdata_new(new_path, object_name, '/global/cfs/cdirs/m4237/desirt/new_data/DCDE2/')\n",
    "    \n",
    "print(len(exists), len(looped), len(no_id), len(written), len(ids))"
   ]
  },
  {
   "cell_type": "code",
   "execution_count": 83,
   "id": "582123a9-f744-47b8-bf07-55ed8ee439e8",
   "metadata": {
    "tags": []
   },
   "outputs": [
    {
     "name": "stdout",
     "output_type": "stream",
     "text": [
      "187 1125 39 899 1125\n"
     ]
    }
   ],
   "source": [
    "no_id = []\n",
    "exists= []\n",
    "looped = []\n",
    "written = []\n",
    "ids = []\n",
    "\n",
    "new_path = '/global/cfs/cdirs/m4237/gesa/DCDE3/ObjectDir/Legacy_new/'\n",
    "obj_list = []\n",
    "\n",
    "for object_name in os.listdir(new_path):\n",
    "    obj_list.append(object_name)\n",
    "\n",
    "for object_name in obj_list:\n",
    "    convert_lcdata_new(new_path, object_name, '/global/cfs/cdirs/m4237/desirt/new_data/DCDE3/')\n",
    "    \n",
    "print(len(exists), len(looped), len(no_id), len(written), len(ids))"
   ]
  },
  {
   "cell_type": "code",
   "execution_count": 15,
   "id": "b1d6f774-f842-4344-9584-d8f0f9a58f01",
   "metadata": {
    "tags": []
   },
   "outputs": [],
   "source": [
    "new_path = '/global/cfs/cdirs/m4237/gesa/DCDE3/ObjectDir/Legacy_new/'\n",
    "convert_lcdata_new(new_path, 'A202210060344377m154246', '/global/cfs/cdirs/m4237/desirt/new_data/DCDE3/')"
   ]
  },
  {
   "cell_type": "code",
   "execution_count": 84,
   "id": "5fdece96-6a78-4124-86bc-5acda9fcec59",
   "metadata": {},
   "outputs": [
    {
     "name": "stderr",
     "output_type": "stream",
     "text": [
      "Progress:   1%|          | 8/927 [00:00<00:56, 16.22file/s]"
     ]
    },
    {
     "name": "stdout",
     "output_type": "stream",
     "text": [
      "No alertUltra.csv file for A202306081508122p063439.\n",
      "No alertUltra.csv file for A202306141454476p055337.\n"
     ]
    },
    {
     "name": "stderr",
     "output_type": "stream",
     "text": [
      "Progress:   3%|▎         | 24/927 [00:01<00:44, 20.14file/s]"
     ]
    },
    {
     "name": "stdout",
     "output_type": "stream",
     "text": [
      "No alertUltra.csv file for A202304241258157p055756.\n",
      "No alertUltra.csv file for A202306141424172m001215.\n",
      "No alertUltra.csv file for A202306051515060p082417.\n",
      "No alertUltra.csv file for T202305152208525m044142.\n",
      "No alertUltra.csv file for A202304121331268p162834.\n"
     ]
    },
    {
     "name": "stderr",
     "output_type": "stream",
     "text": [
      "Progress:   4%|▍         | 35/927 [00:02<00:49, 18.15file/s]"
     ]
    },
    {
     "name": "stdout",
     "output_type": "stream",
     "text": [
      "No alertUltra.csv file for A202306051426585m000755.\n"
     ]
    },
    {
     "name": "stderr",
     "output_type": "stream",
     "text": [
      "Progress:   4%|▍         | 39/927 [00:02<00:53, 16.53file/s]"
     ]
    },
    {
     "name": "stdout",
     "output_type": "stream",
     "text": [
      "No alertUltra.csv file for T202306141251419p052952.\n"
     ]
    },
    {
     "name": "stderr",
     "output_type": "stream",
     "text": [
      "Progress:   5%|▍         | 44/927 [00:02<00:44, 20.04file/s]"
     ]
    },
    {
     "name": "stdout",
     "output_type": "stream",
     "text": [
      "No alertUltra.csv file for A202304081119227m070856.\n",
      "No alertUltra.csv file for T202304151451469p080833.\n",
      "No alertUltra.csv file for T202305152220024m031207.\n",
      "No alertUltra.csv file for A202305152223435m040008.\n",
      "No alertUltra.csv file for A202304151337158p174428.\n"
     ]
    },
    {
     "name": "stderr",
     "output_type": "stream",
     "text": [
      "Progress:   6%|▌         | 54/927 [00:02<00:43, 19.99file/s]"
     ]
    },
    {
     "name": "stdout",
     "output_type": "stream",
     "text": [
      "No alertUltra.csv file for T202304241257326p063440.\n",
      "No alertUltra.csv file for A202304091055333m051657.\n"
     ]
    },
    {
     "name": "stderr",
     "output_type": "stream",
     "text": [
      "Progress:   7%|▋         | 66/927 [00:03<00:37, 22.82file/s]"
     ]
    },
    {
     "name": "stdout",
     "output_type": "stream",
     "text": [
      "No alertUltra.csv file for A202306051306137p061412.\n",
      "No alertUltra.csv file for A202304081511394p082552.\n",
      "No alertUltra.csv file for A202305101240491p065543.\n"
     ]
    },
    {
     "name": "stderr",
     "output_type": "stream",
     "text": [
      "Progress:   8%|▊         | 72/927 [00:03<00:34, 24.60file/s]"
     ]
    },
    {
     "name": "stdout",
     "output_type": "stream",
     "text": [
      "No alertUltra.csv file for A202305152228170m043641.\n",
      "No alertUltra.csv file for A202304081445351p075339.\n"
     ]
    },
    {
     "name": "stderr",
     "output_type": "stream",
     "text": [
      "Progress:   9%|▊         | 79/927 [00:03<00:32, 25.98file/s]"
     ]
    },
    {
     "name": "stdout",
     "output_type": "stream",
     "text": [
      "No alertUltra.csv file for A202305152213337m041126.\n",
      "No alertUltra.csv file for T202304271049196m074254.\n",
      "No alertUltra.csv file for A202304121338542p160228.\n"
     ]
    },
    {
     "name": "stderr",
     "output_type": "stream",
     "text": [
      "Progress:   9%|▉         | 88/927 [00:04<00:32, 26.19file/s]"
     ]
    },
    {
     "name": "stdout",
     "output_type": "stream",
     "text": [
      "No alertUltra.csv file for A202304031257211p071423.\n",
      "No alertUltra.csv file for A202305152209557m043352.\n"
     ]
    },
    {
     "name": "stderr",
     "output_type": "stream",
     "text": [
      "Progress:  10%|█         | 97/927 [00:04<00:34, 24.16file/s]"
     ]
    },
    {
     "name": "stdout",
     "output_type": "stream",
     "text": [
      "No alertUltra.csv file for A202305151240438p052739.\n"
     ]
    },
    {
     "name": "stderr",
     "output_type": "stream",
     "text": [
      "Progress:  11%|█▏        | 106/927 [00:05<00:40, 20.13file/s]"
     ]
    },
    {
     "name": "stdout",
     "output_type": "stream",
     "text": [
      "No alertUltra.csv file for T202305152231354m025619.\n",
      "No alertUltra.csv file for A202304301450083p072340.\n"
     ]
    },
    {
     "name": "stderr",
     "output_type": "stream",
     "text": [
      "Progress:  12%|█▏        | 114/927 [00:05<00:38, 21.13file/s]"
     ]
    },
    {
     "name": "stdout",
     "output_type": "stream",
     "text": [
      "No alertUltra.csv file for T202305101512207p070639.\n"
     ]
    },
    {
     "name": "stderr",
     "output_type": "stream",
     "text": [
      "Progress:  13%|█▎        | 124/927 [00:05<00:27, 28.74file/s]"
     ]
    },
    {
     "name": "stdout",
     "output_type": "stream",
     "text": [
      "No alertUltra.csv file for T202305101301552p051819.\n",
      "No alertUltra.csv file for T202306141243204p080719.\n",
      "No alertUltra.csv file for A202304081103125m074525.\n",
      "No alertUltra.csv file for T202304081057312m055720.\n",
      "No alertUltra.csv file for T202304121311366p063425.\n",
      "No alertUltra.csv file for T202304241235201p075321.\n"
     ]
    },
    {
     "name": "stderr",
     "output_type": "stream",
     "text": [
      "Progress:  14%|█▍        | 133/927 [00:06<00:24, 31.97file/s]"
     ]
    },
    {
     "name": "stdout",
     "output_type": "stream",
     "text": [
      "No alertUltra.csv file for A202304031455371p071256.\n",
      "No alertUltra.csv file for T202305102218482m032921.\n",
      "No alertUltra.csv file for A202304081057295m060332.\n",
      "No alertUltra.csv file for A202305152225535m024638.\n"
     ]
    },
    {
     "name": "stderr",
     "output_type": "stream",
     "text": [
      "Progress:  16%|█▋        | 151/927 [00:06<00:23, 33.23file/s]"
     ]
    },
    {
     "name": "stdout",
     "output_type": "stream",
     "text": [
      "No alertUltra.csv file for A202306142216528m022026.\n",
      "No alertUltra.csv file for T202306142213487m035654.\n",
      "No alertUltra.csv file for A202304241245263p074355.\n",
      "No alertUltra.csv file for A202305152229048m025414.\n",
      "No alertUltra.csv file for T202304271258476p054652.\n",
      "No alertUltra.csv file for A202305152214033m033623.\n",
      "No alertUltra.csv file for A202304081501590p071639.\n"
     ]
    },
    {
     "name": "stderr",
     "output_type": "stream",
     "text": [
      "Progress:  17%|█▋        | 155/927 [00:06<00:22, 34.67file/s]"
     ]
    },
    {
     "name": "stdout",
     "output_type": "stream",
     "text": [
      "No alertUltra.csv file for A202304091338335p163727.\n",
      "No alertUltra.csv file for A202306051443350p081924.\n"
     ]
    },
    {
     "name": "stderr",
     "output_type": "stream",
     "text": [
      "Progress:  18%|█▊        | 167/927 [00:07<00:25, 29.82file/s]"
     ]
    },
    {
     "name": "stdout",
     "output_type": "stream",
     "text": [
      "No alertUltra.csv file for A202306142208239m024824.\n",
      "No alertUltra.csv file for A202305101240007p070411.\n",
      "No alertUltra.csv file for A202306142207521m030729.\n"
     ]
    },
    {
     "name": "stderr",
     "output_type": "stream",
     "text": [
      "Progress:  18%|█▊        | 171/927 [00:07<00:26, 28.21file/s]"
     ]
    },
    {
     "name": "stdout",
     "output_type": "stream",
     "text": [
      "No alertUltra.csv file for A202304241245389p061825.\n"
     ]
    },
    {
     "name": "stderr",
     "output_type": "stream",
     "text": [
      "Progress:  20%|█▉        | 182/927 [00:07<00:24, 30.78file/s]"
     ]
    },
    {
     "name": "stdout",
     "output_type": "stream",
     "text": [
      "No alertUltra.csv file for A202305152211129m035843.\n",
      "No alertUltra.csv file for A202304081100404m060947.\n",
      "No alertUltra.csv file for T202304271043525m064416.\n"
     ]
    },
    {
     "name": "stderr",
     "output_type": "stream",
     "text": [
      "Progress:  20%|██        | 190/927 [00:08<00:22, 32.52file/s]"
     ]
    },
    {
     "name": "stdout",
     "output_type": "stream",
     "text": [
      "No alertUltra.csv file for T202305101246098p053142.\n",
      "No alertUltra.csv file for T202304271257435p051635.\n",
      "No alertUltra.csv file for A202304121330424p172741.\n"
     ]
    },
    {
     "name": "stderr",
     "output_type": "stream",
     "text": [
      "Progress:  21%|██▏       | 198/927 [00:08<00:22, 32.17file/s]"
     ]
    },
    {
     "name": "stdout",
     "output_type": "stream",
     "text": [
      "No alertUltra.csv file for T202304081101483m053524.\n",
      "No alertUltra.csv file for A202304121444540p080425.\n",
      "No alertUltra.csv file for A202304081458523p063014.\n"
     ]
    },
    {
     "name": "stderr",
     "output_type": "stream",
     "text": [
      "Progress:  24%|██▎       | 218/927 [00:09<00:31, 22.46file/s]"
     ]
    },
    {
     "name": "stdout",
     "output_type": "stream",
     "text": [
      "No alertUltra.csv file for A202306142202371m024007.\n"
     ]
    },
    {
     "name": "stderr",
     "output_type": "stream",
     "text": [
      "Progress:  24%|██▍       | 224/927 [00:09<00:31, 22.22file/s]"
     ]
    },
    {
     "name": "stdout",
     "output_type": "stream",
     "text": [
      "No alertUltra.csv file for A202304241454211p083626.\n"
     ]
    },
    {
     "name": "stderr",
     "output_type": "stream",
     "text": [
      "Progress:  25%|██▌       | 232/927 [00:09<00:24, 28.60file/s]"
     ]
    },
    {
     "name": "stdout",
     "output_type": "stream",
     "text": [
      "No alertUltra.csv file for A202305152210497m025135.\n",
      "No alertUltra.csv file for A202304081500468p082704.\n",
      "No alertUltra.csv file for A202304081054204m055555.\n"
     ]
    },
    {
     "name": "stderr",
     "output_type": "stream",
     "text": [
      "Progress:  26%|██▌       | 239/927 [00:10<00:23, 29.33file/s]"
     ]
    },
    {
     "name": "stdout",
     "output_type": "stream",
     "text": [
      "No alertUltra.csv file for A202306051513030p071255.\n",
      "No alertUltra.csv file for A202304241243035p060044.\n",
      "No alertUltra.csv file for A202304081054133m052921.\n"
     ]
    },
    {
     "name": "stderr",
     "output_type": "stream",
     "text": [
      "Progress:  27%|██▋       | 247/927 [00:10<00:21, 32.02file/s]"
     ]
    },
    {
     "name": "stdout",
     "output_type": "stream",
     "text": [
      "No alertUltra.csv file for A202304241333223p184408.\n",
      "No alertUltra.csv file for A202304121424553m010301.\n"
     ]
    },
    {
     "name": "stderr",
     "output_type": "stream",
     "text": [
      "Progress:  30%|███       | 279/927 [00:11<00:26, 24.74file/s]"
     ]
    },
    {
     "name": "stdout",
     "output_type": "stream",
     "text": [
      "No alertUltra.csv file for T202306051517432p084245.\n"
     ]
    },
    {
     "name": "stderr",
     "output_type": "stream",
     "text": [
      "Progress:  31%|███▏      | 290/927 [00:12<00:23, 27.30file/s]"
     ]
    },
    {
     "name": "stdout",
     "output_type": "stream",
     "text": [
      "No alertUltra.csv file for A202304081103345m052719.\n",
      "No alertUltra.csv file for A202306141250111p050656.\n",
      "No alertUltra.csv file for A202304181235360p063123.\n"
     ]
    },
    {
     "name": "stderr",
     "output_type": "stream",
     "text": [
      "Progress:  32%|███▏      | 299/927 [00:12<00:19, 31.78file/s]"
     ]
    },
    {
     "name": "stdout",
     "output_type": "stream",
     "text": [
      "No alertUltra.csv file for A202305102222115m050140.\n",
      "No alertUltra.csv file for A202305152209471m025024.\n"
     ]
    },
    {
     "name": "stderr",
     "output_type": "stream",
     "text": [
      "Progress:  34%|███▍      | 316/927 [00:12<00:15, 39.95file/s]"
     ]
    },
    {
     "name": "stdout",
     "output_type": "stream",
     "text": [
      "No alertUltra.csv file for A202304241233516p064530.\n",
      "No alertUltra.csv file for A202304091109030m060327.\n",
      "No alertUltra.csv file for A202304091119059m070331.\n",
      "No alertUltra.csv file for T202304151447481p085537.\n",
      "No alertUltra.csv file for A202304031330023p160028.\n",
      "No alertUltra.csv file for T202306051506064p065914.\n"
     ]
    },
    {
     "name": "stderr",
     "output_type": "stream",
     "text": [
      "Progress:  35%|███▌      | 325/927 [00:13<00:18, 32.23file/s]"
     ]
    },
    {
     "name": "stdout",
     "output_type": "stream",
     "text": [
      "No alertUltra.csv file for A202304081106536m072413.\n",
      "No alertUltra.csv file for A202304031427006m013244.\n"
     ]
    },
    {
     "name": "stderr",
     "output_type": "stream",
     "text": [
      "Progress:  36%|███▋      | 338/927 [00:13<00:20, 28.66file/s]"
     ]
    },
    {
     "name": "stdout",
     "output_type": "stream",
     "text": [
      "No alertUltra.csv file for A202304241251385p073530.\n"
     ]
    },
    {
     "name": "stderr",
     "output_type": "stream",
     "text": [
      "Progress:  37%|███▋      | 347/927 [00:13<00:18, 31.01file/s]"
     ]
    },
    {
     "name": "stdout",
     "output_type": "stream",
     "text": [
      "No alertUltra.csv file for A202304241239236p054049.\n",
      "No alertUltra.csv file for A202306142218130m042600.\n"
     ]
    },
    {
     "name": "stderr",
     "output_type": "stream",
     "text": [
      "Progress:  39%|███▊      | 358/927 [00:14<00:15, 35.56file/s]"
     ]
    },
    {
     "name": "stdout",
     "output_type": "stream",
     "text": [
      "No alertUltra.csv file for A202306142213074m041433.\n",
      "No alertUltra.csv file for A202304241246006p070858.\n",
      "No alertUltra.csv file for A202305152227155m050805.\n",
      "No alertUltra.csv file for A202304151448195p083012.\n"
     ]
    },
    {
     "name": "stderr",
     "output_type": "stream",
     "text": [
      "Progress:  40%|████      | 373/927 [00:14<00:17, 32.44file/s]"
     ]
    },
    {
     "name": "stdout",
     "output_type": "stream",
     "text": [
      "No alertUltra.csv file for T202304271047492m055119.\n",
      "No alertUltra.csv file for A202304271051505m073330.\n",
      "No alertUltra.csv file for T202304091418538p004323.\n"
     ]
    },
    {
     "name": "stderr",
     "output_type": "stream",
     "text": [
      "Progress:  41%|████      | 380/927 [00:14<00:15, 36.33file/s]"
     ]
    },
    {
     "name": "stdout",
     "output_type": "stream",
     "text": [
      "No alertUltra.csv file for T202305152216443m044337.\n",
      "No alertUltra.csv file for A202304271035568m070526.\n",
      "No alertUltra.csv file for A202304081045229m052748.\n",
      "No alertUltra.csv file for A202304081303241p072448.\n"
     ]
    },
    {
     "name": "stderr",
     "output_type": "stream",
     "text": [
      "Progress:  42%|████▏     | 391/927 [00:15<00:16, 31.70file/s]"
     ]
    },
    {
     "name": "stdout",
     "output_type": "stream",
     "text": [
      "No alertUltra.csv file for A202304121511401p061151.\n"
     ]
    },
    {
     "name": "stderr",
     "output_type": "stream",
     "text": [
      "Progress:  43%|████▎     | 398/927 [00:15<00:21, 25.18file/s]"
     ]
    },
    {
     "name": "stdout",
     "output_type": "stream",
     "text": [
      "No alertUltra.csv file for A202305152215123m021356.\n"
     ]
    },
    {
     "name": "stderr",
     "output_type": "stream",
     "text": [
      "Progress:  44%|████▎     | 405/927 [00:15<00:18, 27.50file/s]"
     ]
    },
    {
     "name": "stdout",
     "output_type": "stream",
     "text": [
      "No alertUltra.csv file for A202305101337485p171451.\n"
     ]
    },
    {
     "name": "stderr",
     "output_type": "stream",
     "text": [
      "Progress:  44%|████▍     | 412/927 [00:16<00:17, 30.18file/s]"
     ]
    },
    {
     "name": "stdout",
     "output_type": "stream",
     "text": [
      "No alertUltra.csv file for T202304081113450m060152.\n",
      "No alertUltra.csv file for T202304271041239m081302.\n",
      "No alertUltra.csv file for A202304121325218p164450.\n",
      "No alertUltra.csv file for A202306051456576p071624.\n",
      "No alertUltra.csv file for A202305152231513m030801.\n",
      "No alertUltra.csv file for A202305152210364m022105.\n"
     ]
    },
    {
     "name": "stderr",
     "output_type": "stream",
     "text": [
      "Progress:  46%|████▋     | 429/927 [00:16<00:12, 40.18file/s]"
     ]
    },
    {
     "name": "stdout",
     "output_type": "stream",
     "text": [
      "No alertUltra.csv file for A202304271041137m074350.\n",
      "No alertUltra.csv file for A202305152205119m051331.\n",
      "No alertUltra.csv file for A202304271057094m054136.\n",
      "No alertUltra.csv file for A202304241257499p081429.\n"
     ]
    },
    {
     "name": "stderr",
     "output_type": "stream",
     "text": [
      "Progress:  47%|████▋     | 440/927 [00:16<00:11, 41.24file/s]"
     ]
    },
    {
     "name": "stdout",
     "output_type": "stream",
     "text": [
      "No alertUltra.csv file for T202304091513422p055229.\n",
      "No alertUltra.csv file for A202304271050117m060027.\n",
      "No alertUltra.csv file for A202305152222283m044729.\n",
      "No alertUltra.csv file for A202305152222233m041648.\n"
     ]
    },
    {
     "name": "stderr",
     "output_type": "stream",
     "text": [
      "Progress:  49%|████▊     | 450/927 [00:16<00:11, 43.08file/s]"
     ]
    },
    {
     "name": "stdout",
     "output_type": "stream",
     "text": [
      "No alertUltra.csv file for A202304091310592p051911.\n",
      "No alertUltra.csv file for A202304121110589m060237.\n",
      "No alertUltra.csv file for A202304081057129m052811.\n"
     ]
    },
    {
     "name": "stderr",
     "output_type": "stream",
     "text": [
      "Progress:  49%|████▉     | 455/927 [00:17<00:12, 36.56file/s]"
     ]
    },
    {
     "name": "stdout",
     "output_type": "stream",
     "text": [
      "No alertUltra.csv file for A202306051253099p062026.\n"
     ]
    },
    {
     "name": "stderr",
     "output_type": "stream",
     "text": [
      "Progress:  50%|█████     | 467/927 [00:17<00:13, 33.66file/s]"
     ]
    },
    {
     "name": "stdout",
     "output_type": "stream",
     "text": [
      "No alertUltra.csv file for T202304241443297p084859.\n"
     ]
    },
    {
     "name": "stderr",
     "output_type": "stream",
     "text": [
      "Progress:  52%|█████▏    | 482/927 [00:17<00:12, 36.96file/s]"
     ]
    },
    {
     "name": "stdout",
     "output_type": "stream",
     "text": [
      "No alertUltra.csv file for A202304121449028p063942.\n",
      "No alertUltra.csv file for A202305152224184m031543.\n",
      "No alertUltra.csv file for A202305152224530m040346.\n",
      "No alertUltra.csv file for T202305101300100p080922.\n",
      "No alertUltra.csv file for A202306081254208p060800.\n"
     ]
    },
    {
     "name": "stderr",
     "output_type": "stream",
     "text": [
      "Progress:  55%|█████▍    | 506/927 [00:18<00:12, 34.05file/s]"
     ]
    },
    {
     "name": "stdout",
     "output_type": "stream",
     "text": [
      "No alertUltra.csv file for A202304081333008p185228.\n",
      "No alertUltra.csv file for A202305152212015m032448.\n",
      "No alertUltra.csv file for A202306081413542m000117.\n"
     ]
    },
    {
     "name": "stderr",
     "output_type": "stream",
     "text": [
      "Progress:  56%|█████▌    | 518/927 [00:19<00:13, 29.38file/s]"
     ]
    },
    {
     "name": "stdout",
     "output_type": "stream",
     "text": [
      "No alertUltra.csv file for A202306081302401p065012.\n",
      "No alertUltra.csv file for A202304151448012p080945.\n"
     ]
    },
    {
     "name": "stderr",
     "output_type": "stream",
     "text": [
      "Progress:  57%|█████▋    | 531/927 [00:19<00:11, 33.01file/s]"
     ]
    },
    {
     "name": "stdout",
     "output_type": "stream",
     "text": [
      "No alertUltra.csv file for A202305152212228m024432.\n",
      "No alertUltra.csv file for A202304081039507m054838.\n",
      "No alertUltra.csv file for A202305152232317m024122.\n"
     ]
    },
    {
     "name": "stderr",
     "output_type": "stream",
     "text": [
      "Progress:  59%|█████▉    | 545/927 [00:19<00:10, 37.50file/s]"
     ]
    },
    {
     "name": "stdout",
     "output_type": "stream",
     "text": [
      "No alertUltra.csv file for A202306142203569m053418.\n",
      "No alertUltra.csv file for A202304121448139p080940.\n",
      "No alertUltra.csv file for A202305152228405m031904.\n",
      "No alertUltra.csv file for T202304091330083p165852.\n",
      "No alertUltra.csv file for T202306051425308m002657.\n"
     ]
    },
    {
     "name": "stderr",
     "output_type": "stream",
     "text": [
      "Progress:  60%|█████▉    | 556/927 [00:20<00:09, 40.16file/s]"
     ]
    },
    {
     "name": "stdout",
     "output_type": "stream",
     "text": [
      "No alertUltra.csv file for A202305152215323m041238.\n"
     ]
    },
    {
     "name": "stderr",
     "output_type": "stream",
     "text": [
      "Progress:  61%|██████    | 561/927 [00:20<00:10, 36.01file/s]"
     ]
    },
    {
     "name": "stdout",
     "output_type": "stream",
     "text": [
      "No alertUltra.csv file for A202304151440456p082702.\n",
      "No alertUltra.csv file for T202305101238307p065045.\n",
      "No alertUltra.csv file for T202305152214539m021658.\n"
     ]
    },
    {
     "name": "stderr",
     "output_type": "stream",
     "text": [
      "Progress:  62%|██████▏   | 578/927 [00:20<00:10, 32.54file/s]"
     ]
    },
    {
     "name": "stdout",
     "output_type": "stream",
     "text": [
      "No alertUltra.csv file for T202306141423338m015027.\n",
      "No alertUltra.csv file for T202304081105011m060914.\n",
      "No alertUltra.csv file for A202304091046594m070204.\n",
      "No alertUltra.csv file for T202305252223048m035622.\n",
      "No alertUltra.csv file for A202304031427535m014720.\n"
     ]
    },
    {
     "name": "stderr",
     "output_type": "stream",
     "text": [
      "Progress:  64%|██████▎   | 590/927 [00:21<00:09, 36.74file/s]"
     ]
    },
    {
     "name": "stdout",
     "output_type": "stream",
     "text": [
      "No alertUltra.csv file for A202304121336406p164622.\n",
      "No alertUltra.csv file for A202304121502564p071948.\n"
     ]
    },
    {
     "name": "stderr",
     "output_type": "stream",
     "text": [
      "Progress:  65%|██████▌   | 603/927 [00:21<00:09, 33.60file/s]"
     ]
    },
    {
     "name": "stdout",
     "output_type": "stream",
     "text": [
      "No alertUltra.csv file for A202304031423537m014019.\n",
      "No alertUltra.csv file for A202304121451480p063054.\n"
     ]
    },
    {
     "name": "stderr",
     "output_type": "stream",
     "text": [
      "Progress:  66%|██████▋   | 616/927 [00:21<00:08, 35.99file/s]"
     ]
    },
    {
     "name": "stdout",
     "output_type": "stream",
     "text": [
      "No alertUltra.csv file for T202304151428359m015129.\n",
      "No alertUltra.csv file for A202304241238516p060831.\n"
     ]
    },
    {
     "name": "stderr",
     "output_type": "stream",
     "text": [
      "Progress:  68%|██████▊   | 626/927 [00:22<00:07, 38.26file/s]"
     ]
    },
    {
     "name": "stdout",
     "output_type": "stream",
     "text": [
      "No alertUltra.csv file for A202304271045267m075530.\n",
      "No alertUltra.csv file for A202305152204573m052735.\n",
      "No alertUltra.csv file for A202306081255590p070956.\n"
     ]
    },
    {
     "name": "stderr",
     "output_type": "stream",
     "text": [
      "Progress:  69%|██████▉   | 644/927 [00:22<00:08, 31.65file/s]"
     ]
    },
    {
     "name": "stdout",
     "output_type": "stream",
     "text": [
      "No alertUltra.csv file for T202306051452102p082213.\n",
      "No alertUltra.csv file for A202306141502299p073448.\n"
     ]
    },
    {
     "name": "stderr",
     "output_type": "stream",
     "text": [
      "Progress:  70%|███████   | 652/927 [00:23<00:09, 28.70file/s]"
     ]
    },
    {
     "name": "stdout",
     "output_type": "stream",
     "text": [
      "No alertUltra.csv file for A202304121449140p075057.\n",
      "No alertUltra.csv file for A202304241235092p062616.\n",
      "No alertUltra.csv file for T202306051426469m021717.\n"
     ]
    },
    {
     "name": "stderr",
     "output_type": "stream",
     "text": [
      "Progress:  71%|███████▏  | 662/927 [00:23<00:06, 41.82file/s]"
     ]
    },
    {
     "name": "stdout",
     "output_type": "stream",
     "text": [
      "No alertUltra.csv file for A202304121443372p075721.\n",
      "No alertUltra.csv file for T202304281248545p054410.\n",
      "No alertUltra.csv file for A202304271052139m051055.\n",
      "No alertUltra.csv file for A202304271049207m080646.\n",
      "No alertUltra.csv file for A202305152204098m053815.\n",
      "No alertUltra.csv file for A202305152221451m032145.\n",
      "No alertUltra.csv file for A202304271045533m054241.\n"
     ]
    },
    {
     "name": "stderr",
     "output_type": "stream",
     "text": [
      "Progress:  73%|███████▎  | 681/927 [00:23<00:06, 35.49file/s]"
     ]
    },
    {
     "name": "stdout",
     "output_type": "stream",
     "text": [
      "No alertUltra.csv file for T202306141508521p085738.\n",
      "No alertUltra.csv file for A202304241306509p065857.\n"
     ]
    },
    {
     "name": "stderr",
     "output_type": "stream",
     "text": [
      "Progress:  74%|███████▍  | 689/927 [00:24<00:07, 30.58file/s]"
     ]
    },
    {
     "name": "stdout",
     "output_type": "stream",
     "text": [
      "No alertUltra.csv file for A202305152205157m024100.\n"
     ]
    },
    {
     "name": "stderr",
     "output_type": "stream",
     "text": [
      "Progress:  75%|███████▌  | 697/927 [00:24<00:06, 38.33file/s]"
     ]
    },
    {
     "name": "stdout",
     "output_type": "stream",
     "text": [
      "No alertUltra.csv file for T202304081056377m055327.\n",
      "No alertUltra.csv file for T202304241502382p075750.\n",
      "No alertUltra.csv file for T202304271101563m075247.\n",
      "No alertUltra.csv file for A202306051510518p084103.\n",
      "No alertUltra.csv file for T202304081059230m051924.\n"
     ]
    },
    {
     "name": "stderr",
     "output_type": "stream",
     "text": [
      "Progress:  77%|███████▋  | 710/927 [00:24<00:06, 34.97file/s]"
     ]
    },
    {
     "name": "stdout",
     "output_type": "stream",
     "text": [
      "No alertUltra.csv file for A202304081040053m074043.\n",
      "No alertUltra.csv file for A202304081041268m050449.\n",
      "No alertUltra.csv file for A202304281308592p060546.\n"
     ]
    },
    {
     "name": "stderr",
     "output_type": "stream",
     "text": [
      "Progress:  78%|███████▊  | 721/927 [00:24<00:05, 40.97file/s]"
     ]
    },
    {
     "name": "stdout",
     "output_type": "stream",
     "text": [
      "No alertUltra.csv file for A202305152219318m024811.\n",
      "No alertUltra.csv file for A202306081515033p085409.\n",
      "No alertUltra.csv file for A202305152231360m022009.\n",
      "No alertUltra.csv file for A202304081301078p074331.\n"
     ]
    },
    {
     "name": "stderr",
     "output_type": "stream",
     "text": [
      "Progress:  79%|███████▉  | 733/927 [00:25<00:04, 45.00file/s]"
     ]
    },
    {
     "name": "stdout",
     "output_type": "stream",
     "text": [
      "No alertUltra.csv file for A202305152213475m023107.\n",
      "No alertUltra.csv file for T202304241249012p055542.\n",
      "No alertUltra.csv file for A202304151506350p060149.\n",
      "No alertUltra.csv file for A202304301302118p073403.\n",
      "No alertUltra.csv file for T202304031113156m075623.\n",
      "No alertUltra.csv file for A202305152212512m031227.\n",
      "No alertUltra.csv file for A202304121304500p052226.\n",
      "No alertUltra.csv file for A202305152208202m041328.\n",
      "No alertUltra.csv file for A202304091110048m075713.\n"
     ]
    },
    {
     "name": "stderr",
     "output_type": "stream",
     "text": [
      "Progress:  80%|████████  | 746/927 [00:25<00:04, 41.63file/s]"
     ]
    },
    {
     "name": "stdout",
     "output_type": "stream",
     "text": [
      "No alertUltra.csv file for A202304301417573m001727.\n",
      "No alertUltra.csv file for A202305152226274m035717.\n"
     ]
    },
    {
     "name": "stderr",
     "output_type": "stream",
     "text": [
      "Progress:  83%|████████▎ | 765/927 [00:25<00:03, 45.65file/s]"
     ]
    },
    {
     "name": "stdout",
     "output_type": "stream",
     "text": [
      "No alertUltra.csv file for T202306141511004p072445.\n",
      "No alertUltra.csv file for A202306141502353p083951.\n",
      "No alertUltra.csv file for A202304151421149m011230.\n",
      "No alertUltra.csv file for A202305152229382m023414.\n",
      "No alertUltra.csv file for T202304081056134m064146.\n",
      "No alertUltra.csv file for T202305151333098p184017.\n",
      "No alertUltra.csv file for A202305121332441p181421.\n"
     ]
    },
    {
     "name": "stderr",
     "output_type": "stream",
     "text": [
      "Progress:  84%|████████▍ | 780/927 [00:26<00:02, 49.64file/s]"
     ]
    },
    {
     "name": "stdout",
     "output_type": "stream",
     "text": [
      "No alertUltra.csv file for A202304151459103p055334.\n",
      "No alertUltra.csv file for A202304081040082m065531.\n",
      "No alertUltra.csv file for A202305152211447m024042.\n",
      "No alertUltra.csv file for A202306051508159p064758.\n"
     ]
    },
    {
     "name": "stderr",
     "output_type": "stream",
     "text": [
      "Progress:  85%|████████▌ | 791/927 [00:26<00:02, 46.16file/s]"
     ]
    },
    {
     "name": "stdout",
     "output_type": "stream",
     "text": [
      "No alertUltra.csv file for T202304121339047p161909.\n",
      "No alertUltra.csv file for A202304271036235m065720.\n"
     ]
    },
    {
     "name": "stderr",
     "output_type": "stream",
     "text": [
      "Progress:  87%|████████▋ | 808/927 [00:26<00:02, 47.51file/s]"
     ]
    },
    {
     "name": "stdout",
     "output_type": "stream",
     "text": [
      "No alertUltra.csv file for A202305152210025m041639.\n",
      "No alertUltra.csv file for A202305101313134p053644.\n",
      "No alertUltra.csv file for A202304081107100m053935.\n",
      "No alertUltra.csv file for A202306081429529m013749.\n",
      "No alertUltra.csv file for T202306141448531p081735.\n"
     ]
    },
    {
     "name": "stderr",
     "output_type": "stream",
     "text": [
      "Progress:  88%|████████▊ | 818/927 [00:27<00:02, 39.40file/s]"
     ]
    },
    {
     "name": "stdout",
     "output_type": "stream",
     "text": [
      "No alertUltra.csv file for T202306141455101p060421.\n",
      "No alertUltra.csv file for A202304151506318p080326.\n"
     ]
    },
    {
     "name": "stderr",
     "output_type": "stream",
     "text": [
      "Progress:  89%|████████▉ | 829/927 [00:27<00:02, 42.69file/s]"
     ]
    },
    {
     "name": "stdout",
     "output_type": "stream",
     "text": [
      "No alertUltra.csv file for T202304031253194p070254.\n",
      "No alertUltra.csv file for A202304091055378m053103.\n",
      "No alertUltra.csv file for A202305152211249m032336.\n"
     ]
    },
    {
     "name": "stderr",
     "output_type": "stream",
     "text": [
      "Progress:  91%|█████████ | 840/927 [00:27<00:02, 38.41file/s]"
     ]
    },
    {
     "name": "stdout",
     "output_type": "stream",
     "text": [
      "No alertUltra.csv file for A202305101235439p062748.\n",
      "No alertUltra.csv file for A202306171237041p053642.\n",
      "No alertUltra.csv file for T202306141247023p075346.\n",
      "No alertUltra.csv file for A202305101327120p161245.\n"
     ]
    },
    {
     "name": "stderr",
     "output_type": "stream",
     "text": [
      "Progress:  93%|█████████▎| 858/927 [00:28<00:01, 44.64file/s]"
     ]
    },
    {
     "name": "stdout",
     "output_type": "stream",
     "text": [
      "No alertUltra.csv file for A202306141247235p062434.\n",
      "No alertUltra.csv file for T202304151502140p055504.\n",
      "No alertUltra.csv file for A202305152210162m050432.\n",
      "No alertUltra.csv file for A202304151421385m000319.\n"
     ]
    },
    {
     "name": "stderr",
     "output_type": "stream",
     "text": [
      "Progress:  94%|█████████▎| 869/927 [00:28<00:01, 47.28file/s]"
     ]
    },
    {
     "name": "stdout",
     "output_type": "stream",
     "text": [
      "No alertUltra.csv file for A202305152224596m033206.\n",
      "No alertUltra.csv file for T202304151427275p003308.\n",
      "No alertUltra.csv file for A202305152228236m051305.\n"
     ]
    },
    {
     "name": "stderr",
     "output_type": "stream",
     "text": [
      "Progress:  96%|█████████▌| 886/927 [00:28<00:00, 46.97file/s]"
     ]
    },
    {
     "name": "stdout",
     "output_type": "stream",
     "text": [
      "No alertUltra.csv file for A202306141450548p073755.\n",
      "No alertUltra.csv file for T202305151452573p062550.\n",
      "No alertUltra.csv file for A202305152215212m030336.\n"
     ]
    },
    {
     "name": "stderr",
     "output_type": "stream",
     "text": [
      "Progress:  98%|█████████▊| 905/927 [00:29<00:00, 49.02file/s]"
     ]
    },
    {
     "name": "stdout",
     "output_type": "stream",
     "text": [
      "No alertUltra.csv file for A202304271504341p073611.\n",
      "No alertUltra.csv file for A202305152224113m025449.\n",
      "No alertUltra.csv file for A202306141456172p053916.\n",
      "No alertUltra.csv file for T202305121330323p184508.\n"
     ]
    },
    {
     "name": "stderr",
     "output_type": "stream",
     "text": [
      "Progress:  98%|█████████▊| 911/927 [00:29<00:00, 49.05file/s]"
     ]
    },
    {
     "name": "stdout",
     "output_type": "stream",
     "text": [
      "No alertUltra.csv file for A202304121251224p070010.\n",
      "No alertUltra.csv file for A202304121418196p001417.\n",
      "No alertUltra.csv file for A202304271049243m064020.\n",
      "No alertUltra.csv file for A202304241301428p071530.\n"
     ]
    },
    {
     "name": "stderr",
     "output_type": "stream",
     "text": [
      "Progress: 100%|██████████| 927/927 [00:29<00:00, 31.30file/s]"
     ]
    },
    {
     "name": "stdout",
     "output_type": "stream",
     "text": [
      "No alertUltra.csv file for A202306141503054p080002.\n",
      "No alertUltra.csv file for T202304091111386m063203.\n",
      "195 927 285 447 927\n"
     ]
    },
    {
     "name": "stderr",
     "output_type": "stream",
     "text": [
      "\n"
     ]
    }
   ],
   "source": [
    "no_id = []\n",
    "exists= []\n",
    "looped = []\n",
    "written = []\n",
    "ids = []\n",
    "\n",
    "new_path = '/global/cfs/cdirs/m4237/gesa/DCDE4/ObjectDir/Legacy/'\n",
    "obj_list = []\n",
    "\n",
    "for object_name in os.listdir(new_path):\n",
    "    obj_list.append(object_name)\n",
    "\n",
    "with tqdm(total=len(obj_list), desc='Progress', unit='file') as pbar:\n",
    "    for object_name in obj_list:\n",
    "        convert_lcdata_new(new_path, object_name, \n",
    "                           '/global/cfs/cdirs/m4237/desirt/new_data/DCDE4/')\n",
    "        pbar.update(1)\n",
    "print(len(exists), len(looped), len(no_id), len(written), len(ids))"
   ]
  },
  {
   "cell_type": "code",
   "execution_count": null,
   "id": "275dfcbb-c3fd-4e35-bf85-8dd3e07deb75",
   "metadata": {},
   "outputs": [],
   "source": []
  }
 ],
 "metadata": {
  "kernelspec": {
   "display_name": "PARSnip_kernal",
   "language": "python",
   "name": "parsnip"
  },
  "language_info": {
   "codemirror_mode": {
    "name": "ipython",
    "version": 3
   },
   "file_extension": ".py",
   "mimetype": "text/x-python",
   "name": "python",
   "nbconvert_exporter": "python",
   "pygments_lexer": "ipython3",
   "version": "3.8.16"
  }
 },
 "nbformat": 4,
 "nbformat_minor": 5
}
